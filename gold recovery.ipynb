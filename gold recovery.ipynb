{
 "cells": [
  {
   "cell_type": "markdown",
   "metadata": {},
   "source": [
    "# Integrated Project 2"
   ]
  },
  {
   "cell_type": "markdown",
   "metadata": {},
   "source": [
    "The goal of this project is to train a model to predict the recovery of gold in a gold purification process. The model will be based on Symmetric Mean Absolute Percentage Error (sMAPE) and we will need to clean the data, and explore which regression technique will evaluate at a higher standard."
   ]
  },
  {
   "cell_type": "code",
   "execution_count": 1,
   "metadata": {},
   "outputs": [],
   "source": [
    "import pandas as pd\n",
    "import numpy as np\n",
    "from scipy import stats as st\n",
    "import matplotlib.pyplot as plt\n",
    "from sklearn.metrics import mean_absolute_error\n",
    "from sklearn.linear_model import LinearRegression\n",
    "from sklearn.ensemble import RandomForestRegressor\n",
    "from sklearn.model_selection import cross_val_predict"
   ]
  },
  {
   "cell_type": "code",
   "execution_count": 2,
   "metadata": {},
   "outputs": [],
   "source": [
    "try:\n",
    "    train = pd.read_csv('gold_recovery_train.csv')\n",
    "    test = pd.read_csv('gold_recovery_test.csv')\n",
    "    raw_data = pd.read_csv('gold_recovery_full.csv')\n",
    "except:\n",
    "    train = pd.read_csv('/datasets/gold_recovery_train.csv')\n",
    "    test = pd.read_csv('/datasets/gold_recovery_test.csv')\n",
    "    raw_data = pd.read_csv('/datasets/gold_recovery_full.csv')"
   ]
  },
  {
   "cell_type": "markdown",
   "metadata": {},
   "source": [
    "## Preparing the Data"
   ]
  },
  {
   "cell_type": "markdown",
   "metadata": {},
   "source": [
    "### Data Inspection"
   ]
  },
  {
   "cell_type": "code",
   "execution_count": 3,
   "metadata": {},
   "outputs": [
    {
     "name": "stdout",
     "output_type": "stream",
     "text": [
      "<class 'pandas.core.frame.DataFrame'>\n",
      "RangeIndex: 16860 entries, 0 to 16859\n",
      "Data columns (total 87 columns):\n",
      "date                                                  16860 non-null object\n",
      "final.output.concentrate_ag                           16788 non-null float64\n",
      "final.output.concentrate_pb                           16788 non-null float64\n",
      "final.output.concentrate_sol                          16490 non-null float64\n",
      "final.output.concentrate_au                           16789 non-null float64\n",
      "final.output.recovery                                 15339 non-null float64\n",
      "final.output.tail_ag                                  16794 non-null float64\n",
      "final.output.tail_pb                                  16677 non-null float64\n",
      "final.output.tail_sol                                 16715 non-null float64\n",
      "final.output.tail_au                                  16794 non-null float64\n",
      "primary_cleaner.input.sulfate                         15553 non-null float64\n",
      "primary_cleaner.input.depressant                      15598 non-null float64\n",
      "primary_cleaner.input.feed_size                       16860 non-null float64\n",
      "primary_cleaner.input.xanthate                        15875 non-null float64\n",
      "primary_cleaner.output.concentrate_ag                 16778 non-null float64\n",
      "primary_cleaner.output.concentrate_pb                 16502 non-null float64\n",
      "primary_cleaner.output.concentrate_sol                16224 non-null float64\n",
      "primary_cleaner.output.concentrate_au                 16778 non-null float64\n",
      "primary_cleaner.output.tail_ag                        16777 non-null float64\n",
      "primary_cleaner.output.tail_pb                        16761 non-null float64\n",
      "primary_cleaner.output.tail_sol                       16579 non-null float64\n",
      "primary_cleaner.output.tail_au                        16777 non-null float64\n",
      "primary_cleaner.state.floatbank8_a_air                16820 non-null float64\n",
      "primary_cleaner.state.floatbank8_a_level              16827 non-null float64\n",
      "primary_cleaner.state.floatbank8_b_air                16820 non-null float64\n",
      "primary_cleaner.state.floatbank8_b_level              16833 non-null float64\n",
      "primary_cleaner.state.floatbank8_c_air                16822 non-null float64\n",
      "primary_cleaner.state.floatbank8_c_level              16833 non-null float64\n",
      "primary_cleaner.state.floatbank8_d_air                16821 non-null float64\n",
      "primary_cleaner.state.floatbank8_d_level              16833 non-null float64\n",
      "rougher.calculation.sulfate_to_au_concentrate         16833 non-null float64\n",
      "rougher.calculation.floatbank10_sulfate_to_au_feed    16833 non-null float64\n",
      "rougher.calculation.floatbank11_sulfate_to_au_feed    16833 non-null float64\n",
      "rougher.calculation.au_pb_ratio                       15618 non-null float64\n",
      "rougher.input.feed_ag                                 16778 non-null float64\n",
      "rougher.input.feed_pb                                 16632 non-null float64\n",
      "rougher.input.feed_rate                               16347 non-null float64\n",
      "rougher.input.feed_size                               16443 non-null float64\n",
      "rougher.input.feed_sol                                16568 non-null float64\n",
      "rougher.input.feed_au                                 16777 non-null float64\n",
      "rougher.input.floatbank10_sulfate                     15816 non-null float64\n",
      "rougher.input.floatbank10_xanthate                    16514 non-null float64\n",
      "rougher.input.floatbank11_sulfate                     16237 non-null float64\n",
      "rougher.input.floatbank11_xanthate                    14956 non-null float64\n",
      "rougher.output.concentrate_ag                         16778 non-null float64\n",
      "rougher.output.concentrate_pb                         16778 non-null float64\n",
      "rougher.output.concentrate_sol                        16698 non-null float64\n",
      "rougher.output.concentrate_au                         16778 non-null float64\n",
      "rougher.output.recovery                               14287 non-null float64\n",
      "rougher.output.tail_ag                                14610 non-null float64\n",
      "rougher.output.tail_pb                                16778 non-null float64\n",
      "rougher.output.tail_sol                               14611 non-null float64\n",
      "rougher.output.tail_au                                14611 non-null float64\n",
      "rougher.state.floatbank10_a_air                       16807 non-null float64\n",
      "rougher.state.floatbank10_a_level                     16807 non-null float64\n",
      "rougher.state.floatbank10_b_air                       16807 non-null float64\n",
      "rougher.state.floatbank10_b_level                     16807 non-null float64\n",
      "rougher.state.floatbank10_c_air                       16807 non-null float64\n",
      "rougher.state.floatbank10_c_level                     16814 non-null float64\n",
      "rougher.state.floatbank10_d_air                       16802 non-null float64\n",
      "rougher.state.floatbank10_d_level                     16809 non-null float64\n",
      "rougher.state.floatbank10_e_air                       16257 non-null float64\n",
      "rougher.state.floatbank10_e_level                     16809 non-null float64\n",
      "rougher.state.floatbank10_f_air                       16802 non-null float64\n",
      "rougher.state.floatbank10_f_level                     16802 non-null float64\n",
      "secondary_cleaner.output.tail_ag                      16776 non-null float64\n",
      "secondary_cleaner.output.tail_pb                      16764 non-null float64\n",
      "secondary_cleaner.output.tail_sol                     14874 non-null float64\n",
      "secondary_cleaner.output.tail_au                      16778 non-null float64\n",
      "secondary_cleaner.state.floatbank2_a_air              16497 non-null float64\n",
      "secondary_cleaner.state.floatbank2_a_level            16751 non-null float64\n",
      "secondary_cleaner.state.floatbank2_b_air              16705 non-null float64\n",
      "secondary_cleaner.state.floatbank2_b_level            16748 non-null float64\n",
      "secondary_cleaner.state.floatbank3_a_air              16763 non-null float64\n",
      "secondary_cleaner.state.floatbank3_a_level            16747 non-null float64\n",
      "secondary_cleaner.state.floatbank3_b_air              16752 non-null float64\n",
      "secondary_cleaner.state.floatbank3_b_level            16750 non-null float64\n",
      "secondary_cleaner.state.floatbank4_a_air              16731 non-null float64\n",
      "secondary_cleaner.state.floatbank4_a_level            16747 non-null float64\n",
      "secondary_cleaner.state.floatbank4_b_air              16768 non-null float64\n",
      "secondary_cleaner.state.floatbank4_b_level            16767 non-null float64\n",
      "secondary_cleaner.state.floatbank5_a_air              16775 non-null float64\n",
      "secondary_cleaner.state.floatbank5_a_level            16775 non-null float64\n",
      "secondary_cleaner.state.floatbank5_b_air              16775 non-null float64\n",
      "secondary_cleaner.state.floatbank5_b_level            16776 non-null float64\n",
      "secondary_cleaner.state.floatbank6_a_air              16757 non-null float64\n",
      "secondary_cleaner.state.floatbank6_a_level            16775 non-null float64\n",
      "dtypes: float64(86), object(1)\n",
      "memory usage: 11.2+ MB\n"
     ]
    },
    {
     "data": {
      "text/html": [
       "<div>\n",
       "<style scoped>\n",
       "    .dataframe tbody tr th:only-of-type {\n",
       "        vertical-align: middle;\n",
       "    }\n",
       "\n",
       "    .dataframe tbody tr th {\n",
       "        vertical-align: top;\n",
       "    }\n",
       "\n",
       "    .dataframe thead th {\n",
       "        text-align: right;\n",
       "    }\n",
       "</style>\n",
       "<table border=\"1\" class=\"dataframe\">\n",
       "  <thead>\n",
       "    <tr style=\"text-align: right;\">\n",
       "      <th></th>\n",
       "      <th>date</th>\n",
       "      <th>final.output.concentrate_ag</th>\n",
       "      <th>final.output.concentrate_pb</th>\n",
       "      <th>final.output.concentrate_sol</th>\n",
       "      <th>final.output.concentrate_au</th>\n",
       "      <th>final.output.recovery</th>\n",
       "      <th>final.output.tail_ag</th>\n",
       "      <th>final.output.tail_pb</th>\n",
       "      <th>final.output.tail_sol</th>\n",
       "      <th>final.output.tail_au</th>\n",
       "      <th>...</th>\n",
       "      <th>secondary_cleaner.state.floatbank4_a_air</th>\n",
       "      <th>secondary_cleaner.state.floatbank4_a_level</th>\n",
       "      <th>secondary_cleaner.state.floatbank4_b_air</th>\n",
       "      <th>secondary_cleaner.state.floatbank4_b_level</th>\n",
       "      <th>secondary_cleaner.state.floatbank5_a_air</th>\n",
       "      <th>secondary_cleaner.state.floatbank5_a_level</th>\n",
       "      <th>secondary_cleaner.state.floatbank5_b_air</th>\n",
       "      <th>secondary_cleaner.state.floatbank5_b_level</th>\n",
       "      <th>secondary_cleaner.state.floatbank6_a_air</th>\n",
       "      <th>secondary_cleaner.state.floatbank6_a_level</th>\n",
       "    </tr>\n",
       "  </thead>\n",
       "  <tbody>\n",
       "    <tr>\n",
       "      <td>0</td>\n",
       "      <td>2016-01-15 00:00:00</td>\n",
       "      <td>6.055403</td>\n",
       "      <td>9.889648</td>\n",
       "      <td>5.507324</td>\n",
       "      <td>42.192020</td>\n",
       "      <td>70.541216</td>\n",
       "      <td>10.411962</td>\n",
       "      <td>0.895447</td>\n",
       "      <td>16.904297</td>\n",
       "      <td>2.143149</td>\n",
       "      <td>...</td>\n",
       "      <td>14.016835</td>\n",
       "      <td>-502.488007</td>\n",
       "      <td>12.099931</td>\n",
       "      <td>-504.715942</td>\n",
       "      <td>9.925633</td>\n",
       "      <td>-498.310211</td>\n",
       "      <td>8.079666</td>\n",
       "      <td>-500.470978</td>\n",
       "      <td>14.151341</td>\n",
       "      <td>-605.841980</td>\n",
       "    </tr>\n",
       "    <tr>\n",
       "      <td>1</td>\n",
       "      <td>2016-01-15 01:00:00</td>\n",
       "      <td>6.029369</td>\n",
       "      <td>9.968944</td>\n",
       "      <td>5.257781</td>\n",
       "      <td>42.701629</td>\n",
       "      <td>69.266198</td>\n",
       "      <td>10.462676</td>\n",
       "      <td>0.927452</td>\n",
       "      <td>16.634514</td>\n",
       "      <td>2.224930</td>\n",
       "      <td>...</td>\n",
       "      <td>13.992281</td>\n",
       "      <td>-505.503262</td>\n",
       "      <td>11.950531</td>\n",
       "      <td>-501.331529</td>\n",
       "      <td>10.039245</td>\n",
       "      <td>-500.169983</td>\n",
       "      <td>7.984757</td>\n",
       "      <td>-500.582168</td>\n",
       "      <td>13.998353</td>\n",
       "      <td>-599.787184</td>\n",
       "    </tr>\n",
       "    <tr>\n",
       "      <td>2</td>\n",
       "      <td>2016-01-15 02:00:00</td>\n",
       "      <td>6.055926</td>\n",
       "      <td>10.213995</td>\n",
       "      <td>5.383759</td>\n",
       "      <td>42.657501</td>\n",
       "      <td>68.116445</td>\n",
       "      <td>10.507046</td>\n",
       "      <td>0.953716</td>\n",
       "      <td>16.208849</td>\n",
       "      <td>2.257889</td>\n",
       "      <td>...</td>\n",
       "      <td>14.015015</td>\n",
       "      <td>-502.520901</td>\n",
       "      <td>11.912783</td>\n",
       "      <td>-501.133383</td>\n",
       "      <td>10.070913</td>\n",
       "      <td>-500.129135</td>\n",
       "      <td>8.013877</td>\n",
       "      <td>-500.517572</td>\n",
       "      <td>14.028663</td>\n",
       "      <td>-601.427363</td>\n",
       "    </tr>\n",
       "    <tr>\n",
       "      <td>3</td>\n",
       "      <td>2016-01-15 03:00:00</td>\n",
       "      <td>6.047977</td>\n",
       "      <td>9.977019</td>\n",
       "      <td>4.858634</td>\n",
       "      <td>42.689819</td>\n",
       "      <td>68.347543</td>\n",
       "      <td>10.422762</td>\n",
       "      <td>0.883763</td>\n",
       "      <td>16.532835</td>\n",
       "      <td>2.146849</td>\n",
       "      <td>...</td>\n",
       "      <td>14.036510</td>\n",
       "      <td>-500.857308</td>\n",
       "      <td>11.999550</td>\n",
       "      <td>-501.193686</td>\n",
       "      <td>9.970366</td>\n",
       "      <td>-499.201640</td>\n",
       "      <td>7.977324</td>\n",
       "      <td>-500.255908</td>\n",
       "      <td>14.005551</td>\n",
       "      <td>-599.996129</td>\n",
       "    </tr>\n",
       "    <tr>\n",
       "      <td>4</td>\n",
       "      <td>2016-01-15 04:00:00</td>\n",
       "      <td>6.148599</td>\n",
       "      <td>10.142511</td>\n",
       "      <td>4.939416</td>\n",
       "      <td>42.774141</td>\n",
       "      <td>66.927016</td>\n",
       "      <td>10.360302</td>\n",
       "      <td>0.792826</td>\n",
       "      <td>16.525686</td>\n",
       "      <td>2.055292</td>\n",
       "      <td>...</td>\n",
       "      <td>14.027298</td>\n",
       "      <td>-499.838632</td>\n",
       "      <td>11.953070</td>\n",
       "      <td>-501.053894</td>\n",
       "      <td>9.925709</td>\n",
       "      <td>-501.686727</td>\n",
       "      <td>7.894242</td>\n",
       "      <td>-500.356035</td>\n",
       "      <td>13.996647</td>\n",
       "      <td>-601.496691</td>\n",
       "    </tr>\n",
       "  </tbody>\n",
       "</table>\n",
       "<p>5 rows × 87 columns</p>\n",
       "</div>"
      ],
      "text/plain": [
       "                  date  final.output.concentrate_ag  \\\n",
       "0  2016-01-15 00:00:00                     6.055403   \n",
       "1  2016-01-15 01:00:00                     6.029369   \n",
       "2  2016-01-15 02:00:00                     6.055926   \n",
       "3  2016-01-15 03:00:00                     6.047977   \n",
       "4  2016-01-15 04:00:00                     6.148599   \n",
       "\n",
       "   final.output.concentrate_pb  final.output.concentrate_sol  \\\n",
       "0                     9.889648                      5.507324   \n",
       "1                     9.968944                      5.257781   \n",
       "2                    10.213995                      5.383759   \n",
       "3                     9.977019                      4.858634   \n",
       "4                    10.142511                      4.939416   \n",
       "\n",
       "   final.output.concentrate_au  final.output.recovery  final.output.tail_ag  \\\n",
       "0                    42.192020              70.541216             10.411962   \n",
       "1                    42.701629              69.266198             10.462676   \n",
       "2                    42.657501              68.116445             10.507046   \n",
       "3                    42.689819              68.347543             10.422762   \n",
       "4                    42.774141              66.927016             10.360302   \n",
       "\n",
       "   final.output.tail_pb  final.output.tail_sol  final.output.tail_au  ...  \\\n",
       "0              0.895447              16.904297              2.143149  ...   \n",
       "1              0.927452              16.634514              2.224930  ...   \n",
       "2              0.953716              16.208849              2.257889  ...   \n",
       "3              0.883763              16.532835              2.146849  ...   \n",
       "4              0.792826              16.525686              2.055292  ...   \n",
       "\n",
       "   secondary_cleaner.state.floatbank4_a_air  \\\n",
       "0                                 14.016835   \n",
       "1                                 13.992281   \n",
       "2                                 14.015015   \n",
       "3                                 14.036510   \n",
       "4                                 14.027298   \n",
       "\n",
       "   secondary_cleaner.state.floatbank4_a_level  \\\n",
       "0                                 -502.488007   \n",
       "1                                 -505.503262   \n",
       "2                                 -502.520901   \n",
       "3                                 -500.857308   \n",
       "4                                 -499.838632   \n",
       "\n",
       "   secondary_cleaner.state.floatbank4_b_air  \\\n",
       "0                                 12.099931   \n",
       "1                                 11.950531   \n",
       "2                                 11.912783   \n",
       "3                                 11.999550   \n",
       "4                                 11.953070   \n",
       "\n",
       "   secondary_cleaner.state.floatbank4_b_level  \\\n",
       "0                                 -504.715942   \n",
       "1                                 -501.331529   \n",
       "2                                 -501.133383   \n",
       "3                                 -501.193686   \n",
       "4                                 -501.053894   \n",
       "\n",
       "   secondary_cleaner.state.floatbank5_a_air  \\\n",
       "0                                  9.925633   \n",
       "1                                 10.039245   \n",
       "2                                 10.070913   \n",
       "3                                  9.970366   \n",
       "4                                  9.925709   \n",
       "\n",
       "   secondary_cleaner.state.floatbank5_a_level  \\\n",
       "0                                 -498.310211   \n",
       "1                                 -500.169983   \n",
       "2                                 -500.129135   \n",
       "3                                 -499.201640   \n",
       "4                                 -501.686727   \n",
       "\n",
       "   secondary_cleaner.state.floatbank5_b_air  \\\n",
       "0                                  8.079666   \n",
       "1                                  7.984757   \n",
       "2                                  8.013877   \n",
       "3                                  7.977324   \n",
       "4                                  7.894242   \n",
       "\n",
       "   secondary_cleaner.state.floatbank5_b_level  \\\n",
       "0                                 -500.470978   \n",
       "1                                 -500.582168   \n",
       "2                                 -500.517572   \n",
       "3                                 -500.255908   \n",
       "4                                 -500.356035   \n",
       "\n",
       "   secondary_cleaner.state.floatbank6_a_air  \\\n",
       "0                                 14.151341   \n",
       "1                                 13.998353   \n",
       "2                                 14.028663   \n",
       "3                                 14.005551   \n",
       "4                                 13.996647   \n",
       "\n",
       "   secondary_cleaner.state.floatbank6_a_level  \n",
       "0                                 -605.841980  \n",
       "1                                 -599.787184  \n",
       "2                                 -601.427363  \n",
       "3                                 -599.996129  \n",
       "4                                 -601.496691  \n",
       "\n",
       "[5 rows x 87 columns]"
      ]
     },
     "execution_count": 3,
     "metadata": {},
     "output_type": "execute_result"
    }
   ],
   "source": [
    "train.info()\n",
    "train.head()"
   ]
  },
  {
   "cell_type": "code",
   "execution_count": 4,
   "metadata": {},
   "outputs": [
    {
     "name": "stdout",
     "output_type": "stream",
     "text": [
      "<class 'pandas.core.frame.DataFrame'>\n",
      "RangeIndex: 5856 entries, 0 to 5855\n",
      "Data columns (total 53 columns):\n",
      "date                                          5856 non-null object\n",
      "primary_cleaner.input.sulfate                 5554 non-null float64\n",
      "primary_cleaner.input.depressant              5572 non-null float64\n",
      "primary_cleaner.input.feed_size               5856 non-null float64\n",
      "primary_cleaner.input.xanthate                5690 non-null float64\n",
      "primary_cleaner.state.floatbank8_a_air        5840 non-null float64\n",
      "primary_cleaner.state.floatbank8_a_level      5840 non-null float64\n",
      "primary_cleaner.state.floatbank8_b_air        5840 non-null float64\n",
      "primary_cleaner.state.floatbank8_b_level      5840 non-null float64\n",
      "primary_cleaner.state.floatbank8_c_air        5840 non-null float64\n",
      "primary_cleaner.state.floatbank8_c_level      5840 non-null float64\n",
      "primary_cleaner.state.floatbank8_d_air        5840 non-null float64\n",
      "primary_cleaner.state.floatbank8_d_level      5840 non-null float64\n",
      "rougher.input.feed_ag                         5840 non-null float64\n",
      "rougher.input.feed_pb                         5840 non-null float64\n",
      "rougher.input.feed_rate                       5816 non-null float64\n",
      "rougher.input.feed_size                       5834 non-null float64\n",
      "rougher.input.feed_sol                        5789 non-null float64\n",
      "rougher.input.feed_au                         5840 non-null float64\n",
      "rougher.input.floatbank10_sulfate             5599 non-null float64\n",
      "rougher.input.floatbank10_xanthate            5733 non-null float64\n",
      "rougher.input.floatbank11_sulfate             5801 non-null float64\n",
      "rougher.input.floatbank11_xanthate            5503 non-null float64\n",
      "rougher.state.floatbank10_a_air               5839 non-null float64\n",
      "rougher.state.floatbank10_a_level             5840 non-null float64\n",
      "rougher.state.floatbank10_b_air               5839 non-null float64\n",
      "rougher.state.floatbank10_b_level             5840 non-null float64\n",
      "rougher.state.floatbank10_c_air               5839 non-null float64\n",
      "rougher.state.floatbank10_c_level             5840 non-null float64\n",
      "rougher.state.floatbank10_d_air               5839 non-null float64\n",
      "rougher.state.floatbank10_d_level             5840 non-null float64\n",
      "rougher.state.floatbank10_e_air               5839 non-null float64\n",
      "rougher.state.floatbank10_e_level             5840 non-null float64\n",
      "rougher.state.floatbank10_f_air               5839 non-null float64\n",
      "rougher.state.floatbank10_f_level             5840 non-null float64\n",
      "secondary_cleaner.state.floatbank2_a_air      5836 non-null float64\n",
      "secondary_cleaner.state.floatbank2_a_level    5840 non-null float64\n",
      "secondary_cleaner.state.floatbank2_b_air      5833 non-null float64\n",
      "secondary_cleaner.state.floatbank2_b_level    5840 non-null float64\n",
      "secondary_cleaner.state.floatbank3_a_air      5822 non-null float64\n",
      "secondary_cleaner.state.floatbank3_a_level    5840 non-null float64\n",
      "secondary_cleaner.state.floatbank3_b_air      5840 non-null float64\n",
      "secondary_cleaner.state.floatbank3_b_level    5840 non-null float64\n",
      "secondary_cleaner.state.floatbank4_a_air      5840 non-null float64\n",
      "secondary_cleaner.state.floatbank4_a_level    5840 non-null float64\n",
      "secondary_cleaner.state.floatbank4_b_air      5840 non-null float64\n",
      "secondary_cleaner.state.floatbank4_b_level    5840 non-null float64\n",
      "secondary_cleaner.state.floatbank5_a_air      5840 non-null float64\n",
      "secondary_cleaner.state.floatbank5_a_level    5840 non-null float64\n",
      "secondary_cleaner.state.floatbank5_b_air      5840 non-null float64\n",
      "secondary_cleaner.state.floatbank5_b_level    5840 non-null float64\n",
      "secondary_cleaner.state.floatbank6_a_air      5840 non-null float64\n",
      "secondary_cleaner.state.floatbank6_a_level    5840 non-null float64\n",
      "dtypes: float64(52), object(1)\n",
      "memory usage: 2.4+ MB\n"
     ]
    },
    {
     "data": {
      "text/html": [
       "<div>\n",
       "<style scoped>\n",
       "    .dataframe tbody tr th:only-of-type {\n",
       "        vertical-align: middle;\n",
       "    }\n",
       "\n",
       "    .dataframe tbody tr th {\n",
       "        vertical-align: top;\n",
       "    }\n",
       "\n",
       "    .dataframe thead th {\n",
       "        text-align: right;\n",
       "    }\n",
       "</style>\n",
       "<table border=\"1\" class=\"dataframe\">\n",
       "  <thead>\n",
       "    <tr style=\"text-align: right;\">\n",
       "      <th></th>\n",
       "      <th>date</th>\n",
       "      <th>primary_cleaner.input.sulfate</th>\n",
       "      <th>primary_cleaner.input.depressant</th>\n",
       "      <th>primary_cleaner.input.feed_size</th>\n",
       "      <th>primary_cleaner.input.xanthate</th>\n",
       "      <th>primary_cleaner.state.floatbank8_a_air</th>\n",
       "      <th>primary_cleaner.state.floatbank8_a_level</th>\n",
       "      <th>primary_cleaner.state.floatbank8_b_air</th>\n",
       "      <th>primary_cleaner.state.floatbank8_b_level</th>\n",
       "      <th>primary_cleaner.state.floatbank8_c_air</th>\n",
       "      <th>...</th>\n",
       "      <th>secondary_cleaner.state.floatbank4_a_air</th>\n",
       "      <th>secondary_cleaner.state.floatbank4_a_level</th>\n",
       "      <th>secondary_cleaner.state.floatbank4_b_air</th>\n",
       "      <th>secondary_cleaner.state.floatbank4_b_level</th>\n",
       "      <th>secondary_cleaner.state.floatbank5_a_air</th>\n",
       "      <th>secondary_cleaner.state.floatbank5_a_level</th>\n",
       "      <th>secondary_cleaner.state.floatbank5_b_air</th>\n",
       "      <th>secondary_cleaner.state.floatbank5_b_level</th>\n",
       "      <th>secondary_cleaner.state.floatbank6_a_air</th>\n",
       "      <th>secondary_cleaner.state.floatbank6_a_level</th>\n",
       "    </tr>\n",
       "  </thead>\n",
       "  <tbody>\n",
       "    <tr>\n",
       "      <td>0</td>\n",
       "      <td>2016-09-01 00:59:59</td>\n",
       "      <td>210.800909</td>\n",
       "      <td>14.993118</td>\n",
       "      <td>8.080000</td>\n",
       "      <td>1.005021</td>\n",
       "      <td>1398.981301</td>\n",
       "      <td>-500.225577</td>\n",
       "      <td>1399.144926</td>\n",
       "      <td>-499.919735</td>\n",
       "      <td>1400.102998</td>\n",
       "      <td>...</td>\n",
       "      <td>12.023554</td>\n",
       "      <td>-497.795834</td>\n",
       "      <td>8.016656</td>\n",
       "      <td>-501.289139</td>\n",
       "      <td>7.946562</td>\n",
       "      <td>-432.317850</td>\n",
       "      <td>4.872511</td>\n",
       "      <td>-500.037437</td>\n",
       "      <td>26.705889</td>\n",
       "      <td>-499.709414</td>\n",
       "    </tr>\n",
       "    <tr>\n",
       "      <td>1</td>\n",
       "      <td>2016-09-01 01:59:59</td>\n",
       "      <td>215.392455</td>\n",
       "      <td>14.987471</td>\n",
       "      <td>8.080000</td>\n",
       "      <td>0.990469</td>\n",
       "      <td>1398.777912</td>\n",
       "      <td>-500.057435</td>\n",
       "      <td>1398.055362</td>\n",
       "      <td>-499.778182</td>\n",
       "      <td>1396.151033</td>\n",
       "      <td>...</td>\n",
       "      <td>12.058140</td>\n",
       "      <td>-498.695773</td>\n",
       "      <td>8.130979</td>\n",
       "      <td>-499.634209</td>\n",
       "      <td>7.958270</td>\n",
       "      <td>-525.839648</td>\n",
       "      <td>4.878850</td>\n",
       "      <td>-500.162375</td>\n",
       "      <td>25.019940</td>\n",
       "      <td>-499.819438</td>\n",
       "    </tr>\n",
       "    <tr>\n",
       "      <td>2</td>\n",
       "      <td>2016-09-01 02:59:59</td>\n",
       "      <td>215.259946</td>\n",
       "      <td>12.884934</td>\n",
       "      <td>7.786667</td>\n",
       "      <td>0.996043</td>\n",
       "      <td>1398.493666</td>\n",
       "      <td>-500.868360</td>\n",
       "      <td>1398.860436</td>\n",
       "      <td>-499.764529</td>\n",
       "      <td>1398.075709</td>\n",
       "      <td>...</td>\n",
       "      <td>11.962366</td>\n",
       "      <td>-498.767484</td>\n",
       "      <td>8.096893</td>\n",
       "      <td>-500.827423</td>\n",
       "      <td>8.071056</td>\n",
       "      <td>-500.801673</td>\n",
       "      <td>4.905125</td>\n",
       "      <td>-499.828510</td>\n",
       "      <td>24.994862</td>\n",
       "      <td>-500.622559</td>\n",
       "    </tr>\n",
       "    <tr>\n",
       "      <td>3</td>\n",
       "      <td>2016-09-01 03:59:59</td>\n",
       "      <td>215.336236</td>\n",
       "      <td>12.006805</td>\n",
       "      <td>7.640000</td>\n",
       "      <td>0.863514</td>\n",
       "      <td>1399.618111</td>\n",
       "      <td>-498.863574</td>\n",
       "      <td>1397.440120</td>\n",
       "      <td>-499.211024</td>\n",
       "      <td>1400.129303</td>\n",
       "      <td>...</td>\n",
       "      <td>12.033091</td>\n",
       "      <td>-498.350935</td>\n",
       "      <td>8.074946</td>\n",
       "      <td>-499.474407</td>\n",
       "      <td>7.897085</td>\n",
       "      <td>-500.868509</td>\n",
       "      <td>4.931400</td>\n",
       "      <td>-499.963623</td>\n",
       "      <td>24.948919</td>\n",
       "      <td>-498.709987</td>\n",
       "    </tr>\n",
       "    <tr>\n",
       "      <td>4</td>\n",
       "      <td>2016-09-01 04:59:59</td>\n",
       "      <td>199.099327</td>\n",
       "      <td>10.682530</td>\n",
       "      <td>7.530000</td>\n",
       "      <td>0.805575</td>\n",
       "      <td>1401.268123</td>\n",
       "      <td>-500.808305</td>\n",
       "      <td>1398.128818</td>\n",
       "      <td>-499.504543</td>\n",
       "      <td>1402.172226</td>\n",
       "      <td>...</td>\n",
       "      <td>12.025367</td>\n",
       "      <td>-500.786497</td>\n",
       "      <td>8.054678</td>\n",
       "      <td>-500.397500</td>\n",
       "      <td>8.107890</td>\n",
       "      <td>-509.526725</td>\n",
       "      <td>4.957674</td>\n",
       "      <td>-500.360026</td>\n",
       "      <td>25.003331</td>\n",
       "      <td>-500.856333</td>\n",
       "    </tr>\n",
       "  </tbody>\n",
       "</table>\n",
       "<p>5 rows × 53 columns</p>\n",
       "</div>"
      ],
      "text/plain": [
       "                  date  primary_cleaner.input.sulfate  \\\n",
       "0  2016-09-01 00:59:59                     210.800909   \n",
       "1  2016-09-01 01:59:59                     215.392455   \n",
       "2  2016-09-01 02:59:59                     215.259946   \n",
       "3  2016-09-01 03:59:59                     215.336236   \n",
       "4  2016-09-01 04:59:59                     199.099327   \n",
       "\n",
       "   primary_cleaner.input.depressant  primary_cleaner.input.feed_size  \\\n",
       "0                         14.993118                         8.080000   \n",
       "1                         14.987471                         8.080000   \n",
       "2                         12.884934                         7.786667   \n",
       "3                         12.006805                         7.640000   \n",
       "4                         10.682530                         7.530000   \n",
       "\n",
       "   primary_cleaner.input.xanthate  primary_cleaner.state.floatbank8_a_air  \\\n",
       "0                        1.005021                             1398.981301   \n",
       "1                        0.990469                             1398.777912   \n",
       "2                        0.996043                             1398.493666   \n",
       "3                        0.863514                             1399.618111   \n",
       "4                        0.805575                             1401.268123   \n",
       "\n",
       "   primary_cleaner.state.floatbank8_a_level  \\\n",
       "0                               -500.225577   \n",
       "1                               -500.057435   \n",
       "2                               -500.868360   \n",
       "3                               -498.863574   \n",
       "4                               -500.808305   \n",
       "\n",
       "   primary_cleaner.state.floatbank8_b_air  \\\n",
       "0                             1399.144926   \n",
       "1                             1398.055362   \n",
       "2                             1398.860436   \n",
       "3                             1397.440120   \n",
       "4                             1398.128818   \n",
       "\n",
       "   primary_cleaner.state.floatbank8_b_level  \\\n",
       "0                               -499.919735   \n",
       "1                               -499.778182   \n",
       "2                               -499.764529   \n",
       "3                               -499.211024   \n",
       "4                               -499.504543   \n",
       "\n",
       "   primary_cleaner.state.floatbank8_c_air  ...  \\\n",
       "0                             1400.102998  ...   \n",
       "1                             1396.151033  ...   \n",
       "2                             1398.075709  ...   \n",
       "3                             1400.129303  ...   \n",
       "4                             1402.172226  ...   \n",
       "\n",
       "   secondary_cleaner.state.floatbank4_a_air  \\\n",
       "0                                 12.023554   \n",
       "1                                 12.058140   \n",
       "2                                 11.962366   \n",
       "3                                 12.033091   \n",
       "4                                 12.025367   \n",
       "\n",
       "   secondary_cleaner.state.floatbank4_a_level  \\\n",
       "0                                 -497.795834   \n",
       "1                                 -498.695773   \n",
       "2                                 -498.767484   \n",
       "3                                 -498.350935   \n",
       "4                                 -500.786497   \n",
       "\n",
       "   secondary_cleaner.state.floatbank4_b_air  \\\n",
       "0                                  8.016656   \n",
       "1                                  8.130979   \n",
       "2                                  8.096893   \n",
       "3                                  8.074946   \n",
       "4                                  8.054678   \n",
       "\n",
       "   secondary_cleaner.state.floatbank4_b_level  \\\n",
       "0                                 -501.289139   \n",
       "1                                 -499.634209   \n",
       "2                                 -500.827423   \n",
       "3                                 -499.474407   \n",
       "4                                 -500.397500   \n",
       "\n",
       "   secondary_cleaner.state.floatbank5_a_air  \\\n",
       "0                                  7.946562   \n",
       "1                                  7.958270   \n",
       "2                                  8.071056   \n",
       "3                                  7.897085   \n",
       "4                                  8.107890   \n",
       "\n",
       "   secondary_cleaner.state.floatbank5_a_level  \\\n",
       "0                                 -432.317850   \n",
       "1                                 -525.839648   \n",
       "2                                 -500.801673   \n",
       "3                                 -500.868509   \n",
       "4                                 -509.526725   \n",
       "\n",
       "   secondary_cleaner.state.floatbank5_b_air  \\\n",
       "0                                  4.872511   \n",
       "1                                  4.878850   \n",
       "2                                  4.905125   \n",
       "3                                  4.931400   \n",
       "4                                  4.957674   \n",
       "\n",
       "   secondary_cleaner.state.floatbank5_b_level  \\\n",
       "0                                 -500.037437   \n",
       "1                                 -500.162375   \n",
       "2                                 -499.828510   \n",
       "3                                 -499.963623   \n",
       "4                                 -500.360026   \n",
       "\n",
       "   secondary_cleaner.state.floatbank6_a_air  \\\n",
       "0                                 26.705889   \n",
       "1                                 25.019940   \n",
       "2                                 24.994862   \n",
       "3                                 24.948919   \n",
       "4                                 25.003331   \n",
       "\n",
       "   secondary_cleaner.state.floatbank6_a_level  \n",
       "0                                 -499.709414  \n",
       "1                                 -499.819438  \n",
       "2                                 -500.622559  \n",
       "3                                 -498.709987  \n",
       "4                                 -500.856333  \n",
       "\n",
       "[5 rows x 53 columns]"
      ]
     },
     "execution_count": 4,
     "metadata": {},
     "output_type": "execute_result"
    }
   ],
   "source": [
    "test.info()\n",
    "test.head()"
   ]
  },
  {
   "cell_type": "code",
   "execution_count": 5,
   "metadata": {},
   "outputs": [
    {
     "name": "stdout",
     "output_type": "stream",
     "text": [
      "<class 'pandas.core.frame.DataFrame'>\n",
      "RangeIndex: 22716 entries, 0 to 22715\n",
      "Data columns (total 87 columns):\n",
      "date                                                  22716 non-null object\n",
      "final.output.concentrate_ag                           22627 non-null float64\n",
      "final.output.concentrate_pb                           22629 non-null float64\n",
      "final.output.concentrate_sol                          22331 non-null float64\n",
      "final.output.concentrate_au                           22630 non-null float64\n",
      "final.output.recovery                                 20753 non-null float64\n",
      "final.output.tail_ag                                  22633 non-null float64\n",
      "final.output.tail_pb                                  22516 non-null float64\n",
      "final.output.tail_sol                                 22445 non-null float64\n",
      "final.output.tail_au                                  22635 non-null float64\n",
      "primary_cleaner.input.sulfate                         21107 non-null float64\n",
      "primary_cleaner.input.depressant                      21170 non-null float64\n",
      "primary_cleaner.input.feed_size                       22716 non-null float64\n",
      "primary_cleaner.input.xanthate                        21565 non-null float64\n",
      "primary_cleaner.output.concentrate_ag                 22618 non-null float64\n",
      "primary_cleaner.output.concentrate_pb                 22268 non-null float64\n",
      "primary_cleaner.output.concentrate_sol                21918 non-null float64\n",
      "primary_cleaner.output.concentrate_au                 22618 non-null float64\n",
      "primary_cleaner.output.tail_ag                        22614 non-null float64\n",
      "primary_cleaner.output.tail_pb                        22594 non-null float64\n",
      "primary_cleaner.output.tail_sol                       22365 non-null float64\n",
      "primary_cleaner.output.tail_au                        22617 non-null float64\n",
      "primary_cleaner.state.floatbank8_a_air                22660 non-null float64\n",
      "primary_cleaner.state.floatbank8_a_level              22667 non-null float64\n",
      "primary_cleaner.state.floatbank8_b_air                22660 non-null float64\n",
      "primary_cleaner.state.floatbank8_b_level              22673 non-null float64\n",
      "primary_cleaner.state.floatbank8_c_air                22662 non-null float64\n",
      "primary_cleaner.state.floatbank8_c_level              22673 non-null float64\n",
      "primary_cleaner.state.floatbank8_d_air                22661 non-null float64\n",
      "primary_cleaner.state.floatbank8_d_level              22673 non-null float64\n",
      "rougher.calculation.sulfate_to_au_concentrate         22672 non-null float64\n",
      "rougher.calculation.floatbank10_sulfate_to_au_feed    22672 non-null float64\n",
      "rougher.calculation.floatbank11_sulfate_to_au_feed    22672 non-null float64\n",
      "rougher.calculation.au_pb_ratio                       21089 non-null float64\n",
      "rougher.input.feed_ag                                 22618 non-null float64\n",
      "rougher.input.feed_pb                                 22472 non-null float64\n",
      "rougher.input.feed_rate                               22163 non-null float64\n",
      "rougher.input.feed_size                               22277 non-null float64\n",
      "rougher.input.feed_sol                                22357 non-null float64\n",
      "rougher.input.feed_au                                 22617 non-null float64\n",
      "rougher.input.floatbank10_sulfate                     21415 non-null float64\n",
      "rougher.input.floatbank10_xanthate                    22247 non-null float64\n",
      "rougher.input.floatbank11_sulfate                     22038 non-null float64\n",
      "rougher.input.floatbank11_xanthate                    20459 non-null float64\n",
      "rougher.output.concentrate_ag                         22618 non-null float64\n",
      "rougher.output.concentrate_pb                         22618 non-null float64\n",
      "rougher.output.concentrate_sol                        22526 non-null float64\n",
      "rougher.output.concentrate_au                         22618 non-null float64\n",
      "rougher.output.recovery                               19597 non-null float64\n",
      "rougher.output.tail_ag                                19979 non-null float64\n",
      "rougher.output.tail_pb                                22618 non-null float64\n",
      "rougher.output.tail_sol                               19980 non-null float64\n",
      "rougher.output.tail_au                                19980 non-null float64\n",
      "rougher.state.floatbank10_a_air                       22646 non-null float64\n",
      "rougher.state.floatbank10_a_level                     22647 non-null float64\n",
      "rougher.state.floatbank10_b_air                       22646 non-null float64\n",
      "rougher.state.floatbank10_b_level                     22647 non-null float64\n",
      "rougher.state.floatbank10_c_air                       22646 non-null float64\n",
      "rougher.state.floatbank10_c_level                     22654 non-null float64\n",
      "rougher.state.floatbank10_d_air                       22641 non-null float64\n",
      "rougher.state.floatbank10_d_level                     22649 non-null float64\n",
      "rougher.state.floatbank10_e_air                       22096 non-null float64\n",
      "rougher.state.floatbank10_e_level                     22649 non-null float64\n",
      "rougher.state.floatbank10_f_air                       22641 non-null float64\n",
      "rougher.state.floatbank10_f_level                     22642 non-null float64\n",
      "secondary_cleaner.output.tail_ag                      22616 non-null float64\n",
      "secondary_cleaner.output.tail_pb                      22600 non-null float64\n",
      "secondary_cleaner.output.tail_sol                     20501 non-null float64\n",
      "secondary_cleaner.output.tail_au                      22618 non-null float64\n",
      "secondary_cleaner.state.floatbank2_a_air              22333 non-null float64\n",
      "secondary_cleaner.state.floatbank2_a_level            22591 non-null float64\n",
      "secondary_cleaner.state.floatbank2_b_air              22538 non-null float64\n",
      "secondary_cleaner.state.floatbank2_b_level            22588 non-null float64\n",
      "secondary_cleaner.state.floatbank3_a_air              22585 non-null float64\n",
      "secondary_cleaner.state.floatbank3_a_level            22587 non-null float64\n",
      "secondary_cleaner.state.floatbank3_b_air              22592 non-null float64\n",
      "secondary_cleaner.state.floatbank3_b_level            22590 non-null float64\n",
      "secondary_cleaner.state.floatbank4_a_air              22571 non-null float64\n",
      "secondary_cleaner.state.floatbank4_a_level            22587 non-null float64\n",
      "secondary_cleaner.state.floatbank4_b_air              22608 non-null float64\n",
      "secondary_cleaner.state.floatbank4_b_level            22607 non-null float64\n",
      "secondary_cleaner.state.floatbank5_a_air              22615 non-null float64\n",
      "secondary_cleaner.state.floatbank5_a_level            22615 non-null float64\n",
      "secondary_cleaner.state.floatbank5_b_air              22615 non-null float64\n",
      "secondary_cleaner.state.floatbank5_b_level            22616 non-null float64\n",
      "secondary_cleaner.state.floatbank6_a_air              22597 non-null float64\n",
      "secondary_cleaner.state.floatbank6_a_level            22615 non-null float64\n",
      "dtypes: float64(86), object(1)\n",
      "memory usage: 15.1+ MB\n"
     ]
    },
    {
     "data": {
      "text/html": [
       "<div>\n",
       "<style scoped>\n",
       "    .dataframe tbody tr th:only-of-type {\n",
       "        vertical-align: middle;\n",
       "    }\n",
       "\n",
       "    .dataframe tbody tr th {\n",
       "        vertical-align: top;\n",
       "    }\n",
       "\n",
       "    .dataframe thead th {\n",
       "        text-align: right;\n",
       "    }\n",
       "</style>\n",
       "<table border=\"1\" class=\"dataframe\">\n",
       "  <thead>\n",
       "    <tr style=\"text-align: right;\">\n",
       "      <th></th>\n",
       "      <th>date</th>\n",
       "      <th>final.output.concentrate_ag</th>\n",
       "      <th>final.output.concentrate_pb</th>\n",
       "      <th>final.output.concentrate_sol</th>\n",
       "      <th>final.output.concentrate_au</th>\n",
       "      <th>final.output.recovery</th>\n",
       "      <th>final.output.tail_ag</th>\n",
       "      <th>final.output.tail_pb</th>\n",
       "      <th>final.output.tail_sol</th>\n",
       "      <th>final.output.tail_au</th>\n",
       "      <th>...</th>\n",
       "      <th>secondary_cleaner.state.floatbank4_a_air</th>\n",
       "      <th>secondary_cleaner.state.floatbank4_a_level</th>\n",
       "      <th>secondary_cleaner.state.floatbank4_b_air</th>\n",
       "      <th>secondary_cleaner.state.floatbank4_b_level</th>\n",
       "      <th>secondary_cleaner.state.floatbank5_a_air</th>\n",
       "      <th>secondary_cleaner.state.floatbank5_a_level</th>\n",
       "      <th>secondary_cleaner.state.floatbank5_b_air</th>\n",
       "      <th>secondary_cleaner.state.floatbank5_b_level</th>\n",
       "      <th>secondary_cleaner.state.floatbank6_a_air</th>\n",
       "      <th>secondary_cleaner.state.floatbank6_a_level</th>\n",
       "    </tr>\n",
       "  </thead>\n",
       "  <tbody>\n",
       "    <tr>\n",
       "      <td>0</td>\n",
       "      <td>2016-01-15 00:00:00</td>\n",
       "      <td>6.055403</td>\n",
       "      <td>9.889648</td>\n",
       "      <td>5.507324</td>\n",
       "      <td>42.192020</td>\n",
       "      <td>70.541216</td>\n",
       "      <td>10.411962</td>\n",
       "      <td>0.895447</td>\n",
       "      <td>16.904297</td>\n",
       "      <td>2.143149</td>\n",
       "      <td>...</td>\n",
       "      <td>14.016835</td>\n",
       "      <td>-502.488007</td>\n",
       "      <td>12.099931</td>\n",
       "      <td>-504.715942</td>\n",
       "      <td>9.925633</td>\n",
       "      <td>-498.310211</td>\n",
       "      <td>8.079666</td>\n",
       "      <td>-500.470978</td>\n",
       "      <td>14.151341</td>\n",
       "      <td>-605.841980</td>\n",
       "    </tr>\n",
       "    <tr>\n",
       "      <td>1</td>\n",
       "      <td>2016-01-15 01:00:00</td>\n",
       "      <td>6.029369</td>\n",
       "      <td>9.968944</td>\n",
       "      <td>5.257781</td>\n",
       "      <td>42.701629</td>\n",
       "      <td>69.266198</td>\n",
       "      <td>10.462676</td>\n",
       "      <td>0.927452</td>\n",
       "      <td>16.634514</td>\n",
       "      <td>2.224930</td>\n",
       "      <td>...</td>\n",
       "      <td>13.992281</td>\n",
       "      <td>-505.503262</td>\n",
       "      <td>11.950531</td>\n",
       "      <td>-501.331529</td>\n",
       "      <td>10.039245</td>\n",
       "      <td>-500.169983</td>\n",
       "      <td>7.984757</td>\n",
       "      <td>-500.582168</td>\n",
       "      <td>13.998353</td>\n",
       "      <td>-599.787184</td>\n",
       "    </tr>\n",
       "    <tr>\n",
       "      <td>2</td>\n",
       "      <td>2016-01-15 02:00:00</td>\n",
       "      <td>6.055926</td>\n",
       "      <td>10.213995</td>\n",
       "      <td>5.383759</td>\n",
       "      <td>42.657501</td>\n",
       "      <td>68.116445</td>\n",
       "      <td>10.507046</td>\n",
       "      <td>0.953716</td>\n",
       "      <td>16.208849</td>\n",
       "      <td>2.257889</td>\n",
       "      <td>...</td>\n",
       "      <td>14.015015</td>\n",
       "      <td>-502.520901</td>\n",
       "      <td>11.912783</td>\n",
       "      <td>-501.133383</td>\n",
       "      <td>10.070913</td>\n",
       "      <td>-500.129135</td>\n",
       "      <td>8.013877</td>\n",
       "      <td>-500.517572</td>\n",
       "      <td>14.028663</td>\n",
       "      <td>-601.427363</td>\n",
       "    </tr>\n",
       "    <tr>\n",
       "      <td>3</td>\n",
       "      <td>2016-01-15 03:00:00</td>\n",
       "      <td>6.047977</td>\n",
       "      <td>9.977019</td>\n",
       "      <td>4.858634</td>\n",
       "      <td>42.689819</td>\n",
       "      <td>68.347543</td>\n",
       "      <td>10.422762</td>\n",
       "      <td>0.883763</td>\n",
       "      <td>16.532835</td>\n",
       "      <td>2.146849</td>\n",
       "      <td>...</td>\n",
       "      <td>14.036510</td>\n",
       "      <td>-500.857308</td>\n",
       "      <td>11.999550</td>\n",
       "      <td>-501.193686</td>\n",
       "      <td>9.970366</td>\n",
       "      <td>-499.201640</td>\n",
       "      <td>7.977324</td>\n",
       "      <td>-500.255908</td>\n",
       "      <td>14.005551</td>\n",
       "      <td>-599.996129</td>\n",
       "    </tr>\n",
       "    <tr>\n",
       "      <td>4</td>\n",
       "      <td>2016-01-15 04:00:00</td>\n",
       "      <td>6.148599</td>\n",
       "      <td>10.142511</td>\n",
       "      <td>4.939416</td>\n",
       "      <td>42.774141</td>\n",
       "      <td>66.927016</td>\n",
       "      <td>10.360302</td>\n",
       "      <td>0.792826</td>\n",
       "      <td>16.525686</td>\n",
       "      <td>2.055292</td>\n",
       "      <td>...</td>\n",
       "      <td>14.027298</td>\n",
       "      <td>-499.838632</td>\n",
       "      <td>11.953070</td>\n",
       "      <td>-501.053894</td>\n",
       "      <td>9.925709</td>\n",
       "      <td>-501.686727</td>\n",
       "      <td>7.894242</td>\n",
       "      <td>-500.356035</td>\n",
       "      <td>13.996647</td>\n",
       "      <td>-601.496691</td>\n",
       "    </tr>\n",
       "  </tbody>\n",
       "</table>\n",
       "<p>5 rows × 87 columns</p>\n",
       "</div>"
      ],
      "text/plain": [
       "                  date  final.output.concentrate_ag  \\\n",
       "0  2016-01-15 00:00:00                     6.055403   \n",
       "1  2016-01-15 01:00:00                     6.029369   \n",
       "2  2016-01-15 02:00:00                     6.055926   \n",
       "3  2016-01-15 03:00:00                     6.047977   \n",
       "4  2016-01-15 04:00:00                     6.148599   \n",
       "\n",
       "   final.output.concentrate_pb  final.output.concentrate_sol  \\\n",
       "0                     9.889648                      5.507324   \n",
       "1                     9.968944                      5.257781   \n",
       "2                    10.213995                      5.383759   \n",
       "3                     9.977019                      4.858634   \n",
       "4                    10.142511                      4.939416   \n",
       "\n",
       "   final.output.concentrate_au  final.output.recovery  final.output.tail_ag  \\\n",
       "0                    42.192020              70.541216             10.411962   \n",
       "1                    42.701629              69.266198             10.462676   \n",
       "2                    42.657501              68.116445             10.507046   \n",
       "3                    42.689819              68.347543             10.422762   \n",
       "4                    42.774141              66.927016             10.360302   \n",
       "\n",
       "   final.output.tail_pb  final.output.tail_sol  final.output.tail_au  ...  \\\n",
       "0              0.895447              16.904297              2.143149  ...   \n",
       "1              0.927452              16.634514              2.224930  ...   \n",
       "2              0.953716              16.208849              2.257889  ...   \n",
       "3              0.883763              16.532835              2.146849  ...   \n",
       "4              0.792826              16.525686              2.055292  ...   \n",
       "\n",
       "   secondary_cleaner.state.floatbank4_a_air  \\\n",
       "0                                 14.016835   \n",
       "1                                 13.992281   \n",
       "2                                 14.015015   \n",
       "3                                 14.036510   \n",
       "4                                 14.027298   \n",
       "\n",
       "   secondary_cleaner.state.floatbank4_a_level  \\\n",
       "0                                 -502.488007   \n",
       "1                                 -505.503262   \n",
       "2                                 -502.520901   \n",
       "3                                 -500.857308   \n",
       "4                                 -499.838632   \n",
       "\n",
       "   secondary_cleaner.state.floatbank4_b_air  \\\n",
       "0                                 12.099931   \n",
       "1                                 11.950531   \n",
       "2                                 11.912783   \n",
       "3                                 11.999550   \n",
       "4                                 11.953070   \n",
       "\n",
       "   secondary_cleaner.state.floatbank4_b_level  \\\n",
       "0                                 -504.715942   \n",
       "1                                 -501.331529   \n",
       "2                                 -501.133383   \n",
       "3                                 -501.193686   \n",
       "4                                 -501.053894   \n",
       "\n",
       "   secondary_cleaner.state.floatbank5_a_air  \\\n",
       "0                                  9.925633   \n",
       "1                                 10.039245   \n",
       "2                                 10.070913   \n",
       "3                                  9.970366   \n",
       "4                                  9.925709   \n",
       "\n",
       "   secondary_cleaner.state.floatbank5_a_level  \\\n",
       "0                                 -498.310211   \n",
       "1                                 -500.169983   \n",
       "2                                 -500.129135   \n",
       "3                                 -499.201640   \n",
       "4                                 -501.686727   \n",
       "\n",
       "   secondary_cleaner.state.floatbank5_b_air  \\\n",
       "0                                  8.079666   \n",
       "1                                  7.984757   \n",
       "2                                  8.013877   \n",
       "3                                  7.977324   \n",
       "4                                  7.894242   \n",
       "\n",
       "   secondary_cleaner.state.floatbank5_b_level  \\\n",
       "0                                 -500.470978   \n",
       "1                                 -500.582168   \n",
       "2                                 -500.517572   \n",
       "3                                 -500.255908   \n",
       "4                                 -500.356035   \n",
       "\n",
       "   secondary_cleaner.state.floatbank6_a_air  \\\n",
       "0                                 14.151341   \n",
       "1                                 13.998353   \n",
       "2                                 14.028663   \n",
       "3                                 14.005551   \n",
       "4                                 13.996647   \n",
       "\n",
       "   secondary_cleaner.state.floatbank6_a_level  \n",
       "0                                 -605.841980  \n",
       "1                                 -599.787184  \n",
       "2                                 -601.427363  \n",
       "3                                 -599.996129  \n",
       "4                                 -601.496691  \n",
       "\n",
       "[5 rows x 87 columns]"
      ]
     },
     "execution_count": 5,
     "metadata": {},
     "output_type": "execute_result"
    }
   ],
   "source": [
    "raw_data.info()\n",
    "raw_data.head()"
   ]
  },
  {
   "cell_type": "markdown",
   "metadata": {},
   "source": [
    "There seems to be a significant amount of nulls in each dataset. Luckily, it seems as if no observations are lost between the source data and the split data. All are accounted for."
   ]
  },
  {
   "cell_type": "markdown",
   "metadata": {},
   "source": [
    "### Recovery Verification"
   ]
  },
  {
   "cell_type": "markdown",
   "metadata": {},
   "source": [
    "Let's make sure our recovery equation is accurate with the following equation given."
   ]
  },
  {
   "cell_type": "markdown",
   "metadata": {},
   "source": [
    "\\begin{equation}\n",
    "Recovery = \\frac{C\\times(F-T)}{F\\times(C-T)} \\times 100\\%\n",
    "\\end{equation}\n",
    "\n",
    "Where:  \n",
    "C = The share of the gold at the output of the stage  \n",
    "F = The share of the gold at the input of the stage  \n",
    "T = The share of the gold at the tail of the stage"
   ]
  },
  {
   "cell_type": "code",
   "execution_count": 6,
   "metadata": {},
   "outputs": [],
   "source": [
    "def recovery(gold_concentrate, gold_in_feed, gold_in_rougher):\n",
    "    num = gold_concentrate * (gold_in_feed-gold_in_rougher)\n",
    "    denom = gold_in_feed * (gold_concentrate-gold_in_rougher)\n",
    "    if denom != 0:\n",
    "        return (num / denom) * 100\n",
    "    else:\n",
    "        return 0"
   ]
  },
  {
   "cell_type": "code",
   "execution_count": 7,
   "metadata": {
    "scrolled": true
   },
   "outputs": [
    {
     "name": "stdout",
     "output_type": "stream",
     "text": [
      "1.0030660674204479e-14\n"
     ]
    }
   ],
   "source": [
    "recovery_check = []\n",
    "recovery_true = []\n",
    "for index, row in raw_data.iterrows():\n",
    "    au_concentrate = row['rougher.output.concentrate_au']\n",
    "    au_in_feed = row['rougher.input.feed_au']\n",
    "    au_in_tail = row['rougher.output.tail_au']\n",
    "    recovery_true_value = row['rougher.output.recovery']\n",
    "    if au_concentrate > 0 and au_in_feed > 0 and au_in_tail > 0 and recovery_true_value > 0:\n",
    "        if pd.notnull(au_concentrate) and pd.notnull(au_in_feed) and pd.notnull(au_in_tail) and pd.notnull(recovery_true_value):\n",
    "            recover = recovery(au_concentrate, au_in_feed, au_in_tail)\n",
    "            recovery_true.append(row['rougher.output.recovery'])\n",
    "            recovery_check.append(recover)\n",
    "test_recovery = pd.Series(recovery_check)\n",
    "recovery_true = pd.Series(recovery_true)\n",
    "\n",
    "print(mean_absolute_error(recovery_true, test_recovery))"
   ]
  },
  {
   "cell_type": "markdown",
   "metadata": {},
   "source": [
    "Our error is so small, we can confirm that it is being properly calculated from the dataset. An error on the order of 10<sup>-14</sup> is coming from calculations with finite storage size and rounding."
   ]
  },
  {
   "cell_type": "markdown",
   "metadata": {},
   "source": [
    "### Dataset Differences"
   ]
  },
  {
   "cell_type": "markdown",
   "metadata": {},
   "source": [
    "Our test set only has 53 columns available, while the training and full dataset have 87. Let's find out which ones are missing."
   ]
  },
  {
   "cell_type": "code",
   "execution_count": 8,
   "metadata": {},
   "outputs": [
    {
     "data": {
      "text/plain": [
       "['final.output.concentrate_ag',\n",
       " 'final.output.concentrate_pb',\n",
       " 'final.output.concentrate_sol',\n",
       " 'final.output.concentrate_au',\n",
       " 'final.output.recovery',\n",
       " 'final.output.tail_ag',\n",
       " 'final.output.tail_pb',\n",
       " 'final.output.tail_sol',\n",
       " 'final.output.tail_au',\n",
       " 'primary_cleaner.output.concentrate_ag',\n",
       " 'primary_cleaner.output.concentrate_pb',\n",
       " 'primary_cleaner.output.concentrate_sol',\n",
       " 'primary_cleaner.output.concentrate_au',\n",
       " 'primary_cleaner.output.tail_ag',\n",
       " 'primary_cleaner.output.tail_pb',\n",
       " 'primary_cleaner.output.tail_sol',\n",
       " 'primary_cleaner.output.tail_au',\n",
       " 'rougher.calculation.sulfate_to_au_concentrate',\n",
       " 'rougher.calculation.floatbank10_sulfate_to_au_feed',\n",
       " 'rougher.calculation.floatbank11_sulfate_to_au_feed',\n",
       " 'rougher.calculation.au_pb_ratio',\n",
       " 'rougher.output.concentrate_ag',\n",
       " 'rougher.output.concentrate_pb',\n",
       " 'rougher.output.concentrate_sol',\n",
       " 'rougher.output.concentrate_au',\n",
       " 'rougher.output.recovery',\n",
       " 'rougher.output.tail_ag',\n",
       " 'rougher.output.tail_pb',\n",
       " 'rougher.output.tail_sol',\n",
       " 'rougher.output.tail_au',\n",
       " 'secondary_cleaner.output.tail_ag',\n",
       " 'secondary_cleaner.output.tail_pb',\n",
       " 'secondary_cleaner.output.tail_sol',\n",
       " 'secondary_cleaner.output.tail_au']"
      ]
     },
     "execution_count": 8,
     "metadata": {},
     "output_type": "execute_result"
    }
   ],
   "source": [
    "missing = []\n",
    "for each in train.columns:\n",
    "    if each not in test.columns:\n",
    "        missing.append(each)\n",
    "missing"
   ]
  },
  {
   "cell_type": "markdown",
   "metadata": {},
   "source": [
    "It appears that all missing columns are either _output_ columns or are _calculation_ columns. This makes sense, as we would typically be trying to use features only, and would need to avoid dependent values that are affected by other features. If they were included, it may weigh some characteristics more than others."
   ]
  },
  {
   "cell_type": "markdown",
   "metadata": {},
   "source": [
    "### Data Preprocessing"
   ]
  },
  {
   "cell_type": "markdown",
   "metadata": {},
   "source": [
    "Because both the training and testing datasets are in the source data set, we will keep their respective identifiers, their dates, and just clean the full source dataset. This is so we do not have issues with random biasing from two separate datasets."
   ]
  },
  {
   "cell_type": "code",
   "execution_count": 9,
   "metadata": {},
   "outputs": [],
   "source": [
    "for df in [train, test, raw_data]:\n",
    "    df['date'] = pd.to_datetime(df['date'], format=\"%Y-%m-%d %H:%M:%S\")"
   ]
  },
  {
   "cell_type": "code",
   "execution_count": 10,
   "metadata": {},
   "outputs": [],
   "source": [
    "train_dates = train['date']\n",
    "test_dates = test['date']"
   ]
  },
  {
   "cell_type": "markdown",
   "metadata": {},
   "source": [
    "later we can use these to extract clean observations from the source sheet when we are done data processing and are about to train our models."
   ]
  },
  {
   "cell_type": "code",
   "execution_count": 11,
   "metadata": {},
   "outputs": [],
   "source": [
    "def get_cleaned_set(date_series):\n",
    "    clean = raw_data_clean[raw_data_clean.date.isin(date_series)]\n",
    "    print(clean.shape)\n",
    "\n",
    "    features = clean[test.drop('date', axis=1).columns]\n",
    "    print(features.shape)\n",
    "    targets = clean[['rougher.output.recovery', 'final.output.recovery']]\n",
    "    print(targets.shape)\n",
    "    \n",
    "    return features, targets"
   ]
  },
  {
   "cell_type": "code",
   "execution_count": 12,
   "metadata": {},
   "outputs": [],
   "source": [
    "raw_data_clean = raw_data"
   ]
  },
  {
   "cell_type": "markdown",
   "metadata": {},
   "source": [
    "Now we can start cleaning the data. For starters, there are incomplete portions of the data, as if they were not being recorded. Because the observations are in order by time, they should be acting as continuous numbers, however there are sections where there are, for example, 8 observations all with 0 final concentrations. Because of the nature of this project, there are still residues, so zeros are failures in the recording. We will want to update them, so let's first turn them into nulls."
   ]
  },
  {
   "cell_type": "code",
   "execution_count": 13,
   "metadata": {},
   "outputs": [],
   "source": [
    "for col in raw_data_clean.drop('date', axis=1).columns:\n",
    "    raw_data_clean[col] = raw_data_clean[col].replace({0:np.nan})"
   ]
  },
  {
   "cell_type": "markdown",
   "metadata": {},
   "source": [
    "Because The recordings are continuous, and we know that observations are in order, we can use a rolling average to look at only similarly timed values to predict what those missing values could be. If a certain scale is not enough, we need to grow the window to make sure all nulls are taken care of."
   ]
  },
  {
   "cell_type": "markdown",
   "metadata": {},
   "source": [
    "def rolling_by_day(df, columns):\n",
    "    for col in columns:\n",
    "        df[col] = df[col].fillna(df[col].rolling(24, min_periods=1, center=True).mean())\n",
    "    return df\n",
    "\n",
    "def rolling_by_month(df, columns):\n",
    "    for col in columns:\n",
    "        df[col] = df[col].fillna(df[col].rolling(24*30, min_periods=1, center=True).mean())\n",
    "    return df\n",
    "\n",
    "def rolling_by_year(df, columns):\n",
    "    for col in columns:\n",
    "        df[col] = df[col].fillna(df[col].rolling(24*30*12, min_periods=1, center=True).mean())\n",
    "    return df\n",
    "\n",
    "def rolling_by_growing_groups(df, columns):\n",
    "    df = rolling_by_day(df, columns)\n",
    "    df = rolling_by_month(df, columns)\n",
    "    df = rolling_by_year(df, columns)\n",
    "    return df"
   ]
  },
  {
   "cell_type": "code",
   "execution_count": 14,
   "metadata": {},
   "outputs": [],
   "source": [
    "def fill_previous(df, columns):\n",
    "    for col in columns:\n",
    "        df[col] = df[col].fillna(method='ffill')\n",
    "    return df"
   ]
  },
  {
   "cell_type": "markdown",
   "metadata": {},
   "source": [
    "We want to apply this to our inputs, as shown in the columns we viewed earlier from the test dataset."
   ]
  },
  {
   "cell_type": "code",
   "execution_count": 15,
   "metadata": {},
   "outputs": [],
   "source": [
    "raw_data_clean = fill_previous(raw_data_clean, test.drop('date', axis=1).columns)"
   ]
  },
  {
   "cell_type": "markdown",
   "metadata": {},
   "source": [
    "There are a significant amount of observations with high level of missing values. First, we know our recovery equation is working correctly. Let's try to use that to our advantage for filling missing characteristics. First, we can't have nulls in out inputs for the recovery equation. Let's fill those."
   ]
  },
  {
   "cell_type": "code",
   "execution_count": 16,
   "metadata": {},
   "outputs": [],
   "source": [
    "raw_data_clean = fill_previous(raw_data_clean, ['final.output.concentrate_au', 'primary_cleaner.output.concentrate_au', 'final.output.tail_au', 'rougher.output.concentrate_au', 'rougher.input.feed_au', 'rougher.output.tail_au'])"
   ]
  },
  {
   "cell_type": "markdown",
   "metadata": {},
   "source": [
    "There are two recovery equation scenarios, so here are there seperated inputs."
   ]
  },
  {
   "cell_type": "code",
   "execution_count": 17,
   "metadata": {},
   "outputs": [],
   "source": [
    "recovery_stages = {'final.output.recovery': ['final.output.concentrate_au', 'primary_cleaner.output.concentrate_au', 'final.output.tail_au'],\n",
    "                   'rougher.output.recovery': ['rougher.output.concentrate_au', 'rougher.input.feed_au', 'rougher.output.tail_au']\n",
    "                  }"
   ]
  },
  {
   "cell_type": "markdown",
   "metadata": {},
   "source": [
    "We can run the scenario for each case with the following equation."
   ]
  },
  {
   "cell_type": "code",
   "execution_count": 18,
   "metadata": {},
   "outputs": [],
   "source": [
    "def manual_recovery(df):\n",
    "    for key in recovery_stages.keys():\n",
    "        au_concentrate_col = recovery_stages.get(key)[0]\n",
    "        au_in_feed_col = recovery_stages.get(key)[1]\n",
    "        au_in_tail_col = recovery_stages.get(key)[2]\n",
    "\n",
    "        for index, row in df.iterrows():\n",
    "            au_concentrate = row[au_concentrate_col]\n",
    "            au_in_feed = row[au_in_feed_col]\n",
    "            au_in_tail = row[au_in_tail_col]\n",
    "            if pd.isnull(row[key]):\n",
    "                recover = recovery(au_concentrate, au_in_feed, au_in_tail)\n",
    "                df.loc[index, key] = recover\n",
    "    return df"
   ]
  },
  {
   "cell_type": "code",
   "execution_count": 19,
   "metadata": {},
   "outputs": [],
   "source": [
    "raw_data_clean = manual_recovery(raw_data_clean)"
   ]
  },
  {
   "cell_type": "code",
   "execution_count": 20,
   "metadata": {},
   "outputs": [
    {
     "name": "stdout",
     "output_type": "stream",
     "text": [
      "<class 'pandas.core.frame.DataFrame'>\n",
      "RangeIndex: 22716 entries, 0 to 22715\n",
      "Data columns (total 53 columns):\n",
      "date                                          22716 non-null datetime64[ns]\n",
      "primary_cleaner.input.sulfate                 22716 non-null float64\n",
      "primary_cleaner.input.depressant              22716 non-null float64\n",
      "primary_cleaner.input.feed_size               22716 non-null float64\n",
      "primary_cleaner.input.xanthate                22716 non-null float64\n",
      "primary_cleaner.state.floatbank8_a_air        22716 non-null float64\n",
      "primary_cleaner.state.floatbank8_a_level      22716 non-null float64\n",
      "primary_cleaner.state.floatbank8_b_air        22716 non-null float64\n",
      "primary_cleaner.state.floatbank8_b_level      22716 non-null float64\n",
      "primary_cleaner.state.floatbank8_c_air        22716 non-null float64\n",
      "primary_cleaner.state.floatbank8_c_level      22716 non-null float64\n",
      "primary_cleaner.state.floatbank8_d_air        22716 non-null float64\n",
      "primary_cleaner.state.floatbank8_d_level      22716 non-null float64\n",
      "rougher.input.feed_ag                         22716 non-null float64\n",
      "rougher.input.feed_pb                         22716 non-null float64\n",
      "rougher.input.feed_rate                       22716 non-null float64\n",
      "rougher.input.feed_size                       22716 non-null float64\n",
      "rougher.input.feed_sol                        22716 non-null float64\n",
      "rougher.input.feed_au                         22716 non-null float64\n",
      "rougher.input.floatbank10_sulfate             22716 non-null float64\n",
      "rougher.input.floatbank10_xanthate            22716 non-null float64\n",
      "rougher.input.floatbank11_sulfate             22716 non-null float64\n",
      "rougher.input.floatbank11_xanthate            22716 non-null float64\n",
      "rougher.state.floatbank10_a_air               22716 non-null float64\n",
      "rougher.state.floatbank10_a_level             22716 non-null float64\n",
      "rougher.state.floatbank10_b_air               22716 non-null float64\n",
      "rougher.state.floatbank10_b_level             22716 non-null float64\n",
      "rougher.state.floatbank10_c_air               22716 non-null float64\n",
      "rougher.state.floatbank10_c_level             22716 non-null float64\n",
      "rougher.state.floatbank10_d_air               22716 non-null float64\n",
      "rougher.state.floatbank10_d_level             22716 non-null float64\n",
      "rougher.state.floatbank10_e_air               22716 non-null float64\n",
      "rougher.state.floatbank10_e_level             22716 non-null float64\n",
      "rougher.state.floatbank10_f_air               22716 non-null float64\n",
      "rougher.state.floatbank10_f_level             22716 non-null float64\n",
      "secondary_cleaner.state.floatbank2_a_air      22716 non-null float64\n",
      "secondary_cleaner.state.floatbank2_a_level    22716 non-null float64\n",
      "secondary_cleaner.state.floatbank2_b_air      22716 non-null float64\n",
      "secondary_cleaner.state.floatbank2_b_level    22716 non-null float64\n",
      "secondary_cleaner.state.floatbank3_a_air      22716 non-null float64\n",
      "secondary_cleaner.state.floatbank3_a_level    22716 non-null float64\n",
      "secondary_cleaner.state.floatbank3_b_air      22716 non-null float64\n",
      "secondary_cleaner.state.floatbank3_b_level    22716 non-null float64\n",
      "secondary_cleaner.state.floatbank4_a_air      22716 non-null float64\n",
      "secondary_cleaner.state.floatbank4_a_level    22716 non-null float64\n",
      "secondary_cleaner.state.floatbank4_b_air      22716 non-null float64\n",
      "secondary_cleaner.state.floatbank4_b_level    22716 non-null float64\n",
      "secondary_cleaner.state.floatbank5_a_air      22716 non-null float64\n",
      "secondary_cleaner.state.floatbank5_a_level    22716 non-null float64\n",
      "secondary_cleaner.state.floatbank5_b_air      22716 non-null float64\n",
      "secondary_cleaner.state.floatbank5_b_level    22716 non-null float64\n",
      "secondary_cleaner.state.floatbank6_a_air      22716 non-null float64\n",
      "secondary_cleaner.state.floatbank6_a_level    22716 non-null float64\n",
      "dtypes: datetime64[ns](1), float64(52)\n",
      "memory usage: 9.2 MB\n",
      "<class 'pandas.core.frame.DataFrame'>\n",
      "RangeIndex: 22716 entries, 0 to 22715\n",
      "Data columns (total 2 columns):\n",
      "final.output.recovery      22716 non-null float64\n",
      "rougher.output.recovery    22716 non-null float64\n",
      "dtypes: float64(2)\n",
      "memory usage: 355.1 KB\n"
     ]
    }
   ],
   "source": [
    "raw_data_clean[test.columns].info()\n",
    "raw_data_clean[['final.output.recovery', 'rougher.output.recovery']].info()"
   ]
  },
  {
   "cell_type": "markdown",
   "metadata": {},
   "source": [
    "Our inputs and recoverys are all now taken care of and we can proceed to look at the clean data and train the model."
   ]
  },
  {
   "cell_type": "markdown",
   "metadata": {},
   "source": [
    "## Analyzing the Data"
   ]
  },
  {
   "cell_type": "markdown",
   "metadata": {},
   "source": [
    "### Concentrations through the Process"
   ]
  },
  {
   "cell_type": "markdown",
   "metadata": {},
   "source": [
    "Let's first take a look at how the metals gold, silver, and lead change in concentration over the process."
   ]
  },
  {
   "cell_type": "code",
   "execution_count": 21,
   "metadata": {},
   "outputs": [],
   "source": [
    "stage = ['rougher.output', 'primary_cleaner.output', 'final.output']\n",
    "element = ['concentrate_au', 'concentrate_ag', 'concentrate_pb']\n",
    "concentration_trends = {}\n",
    "for i in range(len(element)):\n",
    "    key = element[i]\n",
    "    values = []\n",
    "    for ii in range(len(stage)):\n",
    "        values.append(raw_data_clean[stage[ii]+'.'+element[i]].mean())\n",
    "    concentration_trends[key]=values"
   ]
  },
  {
   "cell_type": "code",
   "execution_count": 22,
   "metadata": {
    "scrolled": true
   },
   "outputs": [
    {
     "data": {
      "image/png": "[encoded data removed]",
      "text/plain": [
       "<Figure size 576x432 with 1 Axes>"
      ]
     },
     "metadata": {
      "needs_background": "light"
     },
     "output_type": "display_data"
    }
   ],
   "source": [
    "plt.figure(figsize=(8, 6))\n",
    "for keys, vals in concentration_trends.items():\n",
    "    plt.plot(range(1, len(vals) + 1), vals, '.-', label=keys)\n",
    "plt.xticks([1, 2, 3], stage, rotation=-20)\n",
    "plt.title(\"Concentrations of Au, Ag, and Pb through the Cleaning Process\")\n",
    "plt.legend()\n",
    "plt.show()"
   ]
  },
  {
   "cell_type": "markdown",
   "metadata": {},
   "source": [
    "At the outputs, gold increases in concentration as expected--it is the purpose of the process after all. As for silver, it appears the the process doesn't have a dual purpose, and some silver is lost. Lead seems to not really be affected and is consistently present at each stage."
   ]
  },
  {
   "cell_type": "markdown",
   "metadata": {},
   "source": [
    "### Feed Particle Distributions"
   ]
  },
  {
   "cell_type": "markdown",
   "metadata": {},
   "source": [
    "We are told that our distributions of the Feed Particles cannot be wildly different between the training and the test set. Lets grab the updated set and see if we are in the clear."
   ]
  },
  {
   "cell_type": "code",
   "execution_count": 23,
   "metadata": {},
   "outputs": [
    {
     "name": "stdout",
     "output_type": "stream",
     "text": [
      "(16860, 87)\n",
      "(16860, 52)\n",
      "(16860, 2)\n",
      "(5856, 87)\n",
      "(5856, 52)\n",
      "(5856, 2)\n"
     ]
    }
   ],
   "source": [
    "train_temp_f, train_temp_t = get_cleaned_set(train.date)\n",
    "test_temp_f, test_temp_t  = get_cleaned_set(test.date)"
   ]
  },
  {
   "cell_type": "code",
   "execution_count": 24,
   "metadata": {
    "scrolled": true
   },
   "outputs": [
    {
     "data": {
      "image/png": "[encoded data removed]",
      "text/plain": [
       "<Figure size 864x432 with 1 Axes>"
      ]
     },
     "metadata": {
      "needs_background": "light"
     },
     "output_type": "display_data"
    },
    {
     "data": {
      "image/png": "[encoded data removed]",
      "text/plain": [
       "<Figure size 864x432 with 1 Axes>"
      ]
     },
     "metadata": {
      "needs_background": "light"
     },
     "output_type": "display_data"
    }
   ],
   "source": [
    "plt.figure(figsize=(12, 6))\n",
    "train_feed_size = train_temp_f['rougher.input.feed_size']\n",
    "test_feed_size = test_temp_f['rougher.input.feed_size']\n",
    "plt.hist(train_feed_size, bins=100)\n",
    "plt.hist(test_feed_size, bins=100)\n",
    "plt.title(\"Rougher Feed Size Distribution\")\n",
    "plt.ylabel('Frequency')\n",
    "plt.xlabel('Size')\n",
    "plt.legend(['train set', 'test set'])\n",
    "plt.show()\n",
    "plt.figure(figsize=(12, 6))\n",
    "train_feed_size = train_temp_f['rougher.input.feed_size']\n",
    "test_feed_size = test_temp_f['rougher.input.feed_size']\n",
    "plt.hist(train_feed_size, bins=300)\n",
    "plt.hist(test_feed_size, bins=300)\n",
    "plt.title(\"Rougher Feed Size Distribution\")\n",
    "plt.ylabel('Frequency')\n",
    "plt.xlabel('Size')\n",
    "plt.xlim([0,120])\n",
    "plt.legend(['train set', 'test set'])\n",
    "plt.show()"
   ]
  },
  {
   "cell_type": "code",
   "execution_count": 25,
   "metadata": {},
   "outputs": [
    {
     "name": "stdout",
     "output_type": "stream",
     "text": [
      "train_feed_size: 60.18859533601633\n",
      "test_feed_size: 55.89886568885065\n"
     ]
    }
   ],
   "source": [
    "print('train_feed_size:', train_feed_size.mean())\n",
    "print('test_feed_size:', test_feed_size.mean())"
   ]
  },
  {
   "cell_type": "markdown",
   "metadata": {},
   "source": [
    "Our feed distributions do not wildly differ from each other, however there are a significant of higher outliers in out. Let's see what we can expect if we removed those tail experiments from the datasets."
   ]
  },
  {
   "cell_type": "code",
   "execution_count": 26,
   "metadata": {},
   "outputs": [
    {
     "name": "stdout",
     "output_type": "stream",
     "text": [
      "train_feed_size: 56.880437459515306\n",
      "test_feed_size: 54.888308538694126\n"
     ]
    }
   ],
   "source": [
    "print('train_feed_size:', train_feed_size.loc[(train_feed_size<150)].mean())\n",
    "print('test_feed_size:', test_feed_size.loc[(test_feed_size<150)].mean())"
   ]
  },
  {
   "cell_type": "markdown",
   "metadata": {},
   "source": [
    "Much better. Let's remove those so we can balance our two datasets' distributions."
   ]
  },
  {
   "cell_type": "code",
   "execution_count": 27,
   "metadata": {},
   "outputs": [],
   "source": [
    "raw_data_clean = raw_data_clean[raw_data_clean['rougher.input.feed_size'] < 150]"
   ]
  },
  {
   "cell_type": "markdown",
   "metadata": {},
   "source": [
    "Now we can feel a bit more confident that the training and test set evaluation will be accurate."
   ]
  },
  {
   "cell_type": "markdown",
   "metadata": {},
   "source": [
    "### Stage Concentrations"
   ]
  },
  {
   "cell_type": "markdown",
   "metadata": {},
   "source": [
    "Let's take a look at the distributions of the concentrations to see how each metal typically fairs throughout the process."
   ]
  },
  {
   "cell_type": "code",
   "execution_count": 28,
   "metadata": {},
   "outputs": [
    {
     "data": {
      "image/png": "[encoded data removed]",
      "text/plain": [
       "<Figure size 864x432 with 1 Axes>"
      ]
     },
     "metadata": {
      "needs_background": "light"
     },
     "output_type": "display_data"
    },
    {
     "data": {
      "image/png": "[encoded data removed]",
      "text/plain": [
       "<Figure size 864x432 with 1 Axes>"
      ]
     },
     "metadata": {
      "needs_background": "light"
     },
     "output_type": "display_data"
    },
    {
     "data": {
      "image/png": "[encoded data removed]",
      "text/plain": [
       "<Figure size 864x432 with 1 Axes>"
      ]
     },
     "metadata": {
      "needs_background": "light"
     },
     "output_type": "display_data"
    }
   ],
   "source": [
    "stages = ['rougher.input.feed', 'rougher.output.concentrate', 'final.output.concentrate']\n",
    "elements = ['ag', 'pb', 'sol', 'au']\n",
    "\n",
    "for stage in stages:\n",
    "    plt.figure(figsize=(12, 6))\n",
    "    for element in elements:\n",
    "        element_dist = raw_data_clean[stage + '_' + element]\n",
    "        plt.hist(element_dist, bins=100)\n",
    "        plt.title(stage)\n",
    "        plt.ylabel('Frequency')\n",
    "        plt.xlabel('Amount')\n",
    "    plt.legend(['ag', 'pb', 'sol', 'au'])\n",
    "    plt.show()"
   ]
  },
  {
   "cell_type": "markdown",
   "metadata": {},
   "source": [
    "There seems to be a fair amount of near zero amounts of final gold concentrations. With this being a process that tries to recover gold, these are likely not what we want to train our model with. Let's remove them."
   ]
  },
  {
   "cell_type": "code",
   "execution_count": 29,
   "metadata": {},
   "outputs": [],
   "source": [
    "raw_data_clean = raw_data_clean[(raw_data_clean['rougher.output.concentrate_au'] > .1) & (raw_data_clean['final.output.concentrate_au'] > .1)]"
   ]
  },
  {
   "cell_type": "markdown",
   "metadata": {},
   "source": [
    "Now that the nearly zero value anomalies are removed, let's train our model."
   ]
  },
  {
   "cell_type": "markdown",
   "metadata": {},
   "source": [
    "## Building the Model"
   ]
  },
  {
   "cell_type": "markdown",
   "metadata": {},
   "source": [
    "### sMAPE Function"
   ]
  },
  {
   "cell_type": "markdown",
   "metadata": {},
   "source": [
    "We believe that the Symmetric Mean Absolute Percentage Error (sMAPE) is going to be our best evaluation metric. In order to measure it, let's build the function."
   ]
  },
  {
   "cell_type": "markdown",
   "metadata": {},
   "source": [
    "\\begin{equation}\n",
    "sMAPE = \\frac{1}{N}\\sum_{i=1}^{N}\\frac{|y_i-\\hat{y_i}|}{(|y_i| + |\\hat{y_i}|)/2}\n",
    "\\end{equation}"
   ]
  },
  {
   "cell_type": "code",
   "execution_count": 30,
   "metadata": {},
   "outputs": [],
   "source": [
    "def sMAPE(predictions, targets):\n",
    "    y_i = targets.reset_index(drop=True) # Value of recovery target for the ith observation\n",
    "    ycar_i = predictions.reset_index(drop=True) # Value of recovery prediction for the ith observation\n",
    "    n = len(predictions) # Number of observations in the sample.\n",
    "    \n",
    "    num = abs(y_i - ycar_i)\n",
    "    denom = abs(y_i) + abs(ycar_i)/2\n",
    "    frac = num/denom\n",
    "    \n",
    "    return (frac.sum()/n)*100"
   ]
  },
  {
   "cell_type": "markdown",
   "metadata": {},
   "source": [
    "\\begin{equation}\n",
    "\\text{Final sMAPE} = 25\\% \\times \\text{ sMAPE(rougher) } + 75\\% \\times \\text{ sMAPE(final) }\n",
    "\\end{equation}"
   ]
  },
  {
   "cell_type": "code",
   "execution_count": 31,
   "metadata": {},
   "outputs": [],
   "source": [
    "def final_sMAPE(predictions, targets):\n",
    "    rougher = .25 * sMAPE(predictions['rougher.output.recovery'], targets['rougher.output.recovery'])\n",
    "    final =   .75 * sMAPE(predictions['final.output.recovery'], targets['final.output.recovery'])\n",
    "    \n",
    "    return rougher + final"
   ]
  },
  {
   "cell_type": "markdown",
   "metadata": {},
   "source": [
    "### Model Training"
   ]
  },
  {
   "cell_type": "markdown",
   "metadata": {},
   "source": [
    "#### Train and Test Samples Regrouping"
   ]
  },
  {
   "cell_type": "code",
   "execution_count": 32,
   "metadata": {},
   "outputs": [
    {
     "name": "stdout",
     "output_type": "stream",
     "text": [
      "(16082, 87)\n",
      "(16082, 52)\n",
      "(16082, 2)\n"
     ]
    }
   ],
   "source": [
    "train_features, train_targets = get_cleaned_set(train.date)"
   ]
  },
  {
   "cell_type": "code",
   "execution_count": 33,
   "metadata": {},
   "outputs": [
    {
     "name": "stdout",
     "output_type": "stream",
     "text": [
      "(5825, 87)\n",
      "(5825, 52)\n",
      "(5825, 2)\n"
     ]
    }
   ],
   "source": [
    "test_features, test_targets = get_cleaned_set(test.date)"
   ]
  },
  {
   "cell_type": "markdown",
   "metadata": {},
   "source": [
    "#### Linear Regression"
   ]
  },
  {
   "cell_type": "code",
   "execution_count": 34,
   "metadata": {
    "scrolled": true
   },
   "outputs": [
    {
     "name": "stdout",
     "output_type": "stream",
     "text": [
      "111.9%\n",
      "CPU times: user 747 ms, sys: 679 ms, total: 1.43 s\n",
      "Wall time: 1.4 s\n"
     ]
    }
   ],
   "source": [
    "%%time\n",
    "lr_model = LinearRegression()\n",
    "lr_model.fit(train_features, train_targets)\n",
    "\n",
    "predictions = cross_val_predict(lr_model, train_features, train_targets, cv=3)\n",
    "\n",
    "df_predictions = pd.DataFrame({'rougher.output.recovery':predictions[:,0], 'final.output.recovery':predictions[:,1]})\n",
    "\n",
    "number = final_sMAPE(df_predictions, train_targets)\n",
    "\n",
    "print('{:.4}%'.format(number))"
   ]
  },
  {
   "cell_type": "markdown",
   "metadata": {},
   "source": [
    "105.5% seems pretty good. Linear Regression seems to be a pretty confident choice already. Let's take a look at the Random Forest Regressor to compare."
   ]
  },
  {
   "cell_type": "markdown",
   "metadata": {},
   "source": [
    "#### Random Forest Regressor"
   ]
  },
  {
   "cell_type": "code",
   "execution_count": 35,
   "metadata": {},
   "outputs": [
    {
     "name": "stdout",
     "output_type": "stream",
     "text": [
      "number of estimators: 10\n",
      "sMAPE: 26.03%\n",
      "number of estimators: 20\n",
      "sMAPE: 26.7%\n",
      "number of estimators: 30\n",
      "sMAPE: 27.97%\n",
      "number of estimators: 40\n",
      "sMAPE: 27.59%\n",
      "CPU times: user 10min 49s, sys: 459 ms, total: 10min 49s\n",
      "Wall time: 18min 42s\n"
     ]
    }
   ],
   "source": [
    "%%time\n",
    "import warnings\n",
    "warnings.simplefilter(action='ignore', category=FutureWarning)\n",
    "estims = []\n",
    "sMAPEs = []\n",
    "for estim in range(10, 50, 10):\n",
    "    estims.append(estim)\n",
    "    rf_model = RandomForestRegressor(n_estimators=estim, random_state=12345)\n",
    "    rf_model.fit(train_features, train_targets)\n",
    "\n",
    "    predictions = cross_val_predict(rf_model, train_features, train_targets, cv=3)\n",
    "\n",
    "    df_predictions = pd.DataFrame({'rougher.output.recovery':predictions[:,0], 'final.output.recovery':predictions[:,1]})\n",
    "\n",
    "    number = final_sMAPE(df_predictions, train_targets)\n",
    "    sMAPEs.append(number)\n",
    "    print('number of estimators:', estim)\n",
    "    print('sMAPE:', '{:.4}%'.format(number))"
   ]
  },
  {
   "cell_type": "markdown",
   "metadata": {},
   "source": [
    "Yikes--Pretty poor performance associated with the Random Forest Regressors... However, this can be the case with large datasets with lots of features that the random forest tries to fit, especially with regression rather than classification. Also, the time it took for the forest model to train was significantly longer for worse results. Therefore our Linear Regression is the prefered model type."
   ]
  },
  {
   "cell_type": "markdown",
   "metadata": {},
   "source": [
    "#### Model Testing"
   ]
  },
  {
   "cell_type": "code",
   "execution_count": 36,
   "metadata": {},
   "outputs": [
    {
     "name": "stdout",
     "output_type": "stream",
     "text": [
      "(5825, 87)\n",
      "(5825, 52)\n",
      "(5825, 2)\n"
     ]
    }
   ],
   "source": [
    "test_features, test_targets = get_cleaned_set(test.date)"
   ]
  },
  {
   "cell_type": "code",
   "execution_count": 37,
   "metadata": {
    "scrolled": true
   },
   "outputs": [
    {
     "name": "stdout",
     "output_type": "stream",
     "text": [
      "80.83%\n"
     ]
    }
   ],
   "source": [
    "test_predictions = lr_model.predict(test_features)\n",
    "\n",
    "df_test_predictions = pd.DataFrame({'rougher.output.recovery':test_predictions[:,0], 'final.output.recovery':test_predictions[:,1]})\n",
    "\n",
    "number = final_sMAPE(df_test_predictions, test_targets)\n",
    "\n",
    "print('{:.4}%'.format(number))"
   ]
  },
  {
   "cell_type": "markdown",
   "metadata": {},
   "source": [
    "Even better than our training, our testing seems to have proven that the Linear Regression was the way to go."
   ]
  },
  {
   "cell_type": "markdown",
   "metadata": {},
   "source": [
    "## Conclusion"
   ]
  },
  {
   "cell_type": "markdown",
   "metadata": {},
   "source": [
    "We have taken the three datasets and have filled there missing inputs with rolling averages to represent real world observations. We then reviewed the data to check for annomalies. Lastly, we trained and validated a linear regression model and a random forest regressor model. We used an sMAPE metric and found that our best model, the Linear Regression, trained with a 111.9% and tested at 80.83%.\n",
    "\n",
    "While preproccising data, we noticed a fair amount of nulls and presumed failed records that were zeros. Because the observations were based on time, and this is a process based over time, then the best approximations of values are recent values. We used the most recent non-zero, non-null value To fill in the missing ones. We then used our working recovery equations to fill in those missing values for higher accuracy.\n",
    "\n",
    "We then viewed the data visually to inspect for anomalies. We found that there were a few feed particle sizes that were skewing the training set's data. we removed these to increase the similarity, so the evaluation metrics would be similar. We also saw that in the final concentrations of gold, there were a few observations that were nearly zero. Contrary to the purpose of the process to begin with, these are likely failed attemps so they were removed.\n",
    "\n",
    "We then took the training set and trained both a linear regression model and a few Random Forest regressions. Each model was evaluated with cross validation for more confidence. We found not only that the Linear regression was evaluating with at a much better score, but it was also significantly faster. This is typical when datasets contain a lot of characterstics. Decision Tree and Random Forest regressions tend to do poorly determining final predictions when overloaded with so many inputs. The linear regression model had an sMAPE of 111.9% and it was tested with the Testing dataset, resulting in an SMAPE of 80.83%. the sMAPE evaluation can range from 0 to 200 percent, with 100 being the goal. In this case, 80.83 is acceptable.\n",
    "\n",
    "In this case, we can assume that the model has accurately predicted what recovery we can expect on the gold throughout the process, and therefore could take this information back to later determine with better certainty, what characteristics of the process are crucial to optimizing the gold recovered."
   ]
  }
 ],
 "metadata": {
  "ExecuteTimeLog": [
   {
    "duration": 1416,
    "start_time": "2021-06-09T16:50:56.133Z"
   },
   {
    "duration": 1138,
    "start_time": "2021-06-09T16:50:57.552Z"
   },
   {
    "duration": 69,
    "start_time": "2021-06-09T16:50:58.693Z"
   },
   {
    "duration": 43,
    "start_time": "2021-06-09T16:50:58.766Z"
   },
   {
    "duration": 88,
    "start_time": "2021-06-09T16:50:58.812Z"
   },
   {
    "duration": 4,
    "start_time": "2021-06-09T16:50:58.904Z"
   },
   {
    "duration": 4602,
    "start_time": "2021-06-09T16:50:58.910Z"
   },
   {
    "duration": 7,
    "start_time": "2021-06-09T16:51:03.515Z"
   },
   {
    "duration": 44,
    "start_time": "2021-06-09T16:51:03.525Z"
   },
   {
    "duration": 3,
    "start_time": "2021-06-09T16:51:03.572Z"
   },
   {
    "duration": 7,
    "start_time": "2021-06-09T16:51:03.577Z"
   },
   {
    "duration": 16,
    "start_time": "2021-06-09T16:51:03.587Z"
   },
   {
    "duration": 73,
    "start_time": "2021-06-09T16:51:03.606Z"
   },
   {
    "duration": 8,
    "start_time": "2021-06-09T16:51:03.681Z"
   },
   {
    "duration": 350,
    "start_time": "2021-06-09T16:51:03.692Z"
   },
   {
    "duration": 46,
    "start_time": "2021-06-09T16:51:04.044Z"
   },
   {
    "duration": 3,
    "start_time": "2021-06-09T16:51:04.093Z"
   },
   {
    "duration": 9,
    "start_time": "2021-06-09T16:51:04.098Z"
   },
   {
    "duration": 12578,
    "start_time": "2021-06-09T16:51:04.110Z"
   },
   {
    "duration": 9,
    "start_time": "2021-06-09T16:51:16.691Z"
   },
   {
    "duration": 324,
    "start_time": "2021-06-09T16:51:16.702Z"
   },
   {
    "duration": 42,
    "start_time": "2021-06-09T16:51:17.028Z"
   },
   {
    "duration": 3013,
    "start_time": "2021-06-09T16:51:17.075Z"
   },
   {
    "duration": 5083,
    "start_time": "2021-06-09T16:51:20.091Z"
   },
   {
    "duration": 5,
    "start_time": "2021-06-09T16:51:25.177Z"
   },
   {
    "duration": 22,
    "start_time": "2021-06-09T16:51:25.184Z"
   },
   {
    "duration": 36,
    "start_time": "2021-06-09T16:51:25.209Z"
   },
   {
    "duration": 16,
    "start_time": "2021-06-09T16:51:25.248Z"
   },
   {
    "duration": 1089,
    "start_time": "2021-06-09T16:51:25.267Z"
   },
   {
    "duration": 245304,
    "start_time": "2021-06-09T16:51:26.359Z"
   },
   {
    "duration": 13,
    "start_time": "2021-06-09T16:55:31.665Z"
   },
   {
    "duration": 79,
    "start_time": "2021-06-09T16:55:31.681Z"
   },
   {
    "duration": 1070,
    "start_time": "2021-06-10T04:53:04.060Z"
   },
   {
    "duration": 977,
    "start_time": "2021-06-10T04:53:05.132Z"
   },
   {
    "duration": 36,
    "start_time": "2021-06-10T04:53:06.111Z"
   },
   {
    "duration": 45,
    "start_time": "2021-06-10T04:53:06.149Z"
   },
   {
    "duration": 40,
    "start_time": "2021-06-10T04:53:06.196Z"
   },
   {
    "duration": 3,
    "start_time": "2021-06-10T04:53:06.238Z"
   },
   {
    "duration": 2400,
    "start_time": "2021-06-10T04:53:06.243Z"
   },
   {
    "duration": 5,
    "start_time": "2021-06-10T04:53:08.645Z"
   },
   {
    "duration": 15,
    "start_time": "2021-06-10T04:53:08.652Z"
   },
   {
    "duration": 17,
    "start_time": "2021-06-10T04:53:08.668Z"
   },
   {
    "duration": 4,
    "start_time": "2021-06-10T04:53:08.687Z"
   },
   {
    "duration": 7,
    "start_time": "2021-06-10T04:53:08.693Z"
   },
   {
    "duration": 41,
    "start_time": "2021-06-10T04:53:08.702Z"
   },
   {
    "duration": 5,
    "start_time": "2021-06-10T04:53:08.745Z"
   },
   {
    "duration": 259,
    "start_time": "2021-06-10T04:53:08.752Z"
   },
   {
    "duration": 29,
    "start_time": "2021-06-10T04:53:09.013Z"
   },
   {
    "duration": 3,
    "start_time": "2021-06-10T04:53:09.043Z"
   },
   {
    "duration": 5,
    "start_time": "2021-06-10T04:53:09.047Z"
   },
   {
    "duration": 7120,
    "start_time": "2021-06-10T04:53:09.054Z"
   },
   {
    "duration": 13,
    "start_time": "2021-06-10T04:53:16.176Z"
   },
   {
    "duration": 215,
    "start_time": "2021-06-10T04:53:16.191Z"
   },
   {
    "duration": 20,
    "start_time": "2021-06-10T04:53:16.408Z"
   },
   {
    "duration": 1793,
    "start_time": "2021-06-10T04:53:16.431Z"
   },
   {
    "duration": 3324,
    "start_time": "2021-06-10T04:53:18.226Z"
   },
   {
    "duration": 3,
    "start_time": "2021-06-10T04:53:21.551Z"
   },
   {
    "duration": 6,
    "start_time": "2021-06-10T04:53:21.556Z"
   },
   {
    "duration": 26,
    "start_time": "2021-06-10T04:53:21.563Z"
   },
   {
    "duration": 9,
    "start_time": "2021-06-10T04:53:21.590Z"
   },
   {
    "duration": 1586,
    "start_time": "2021-06-10T04:53:21.601Z"
   },
   {
    "duration": 183350,
    "start_time": "2021-06-10T04:53:23.189Z"
   },
   {
    "duration": 9,
    "start_time": "2021-06-10T04:56:26.540Z"
   },
   {
    "duration": 146,
    "start_time": "2021-06-10T04:56:26.550Z"
   },
   {
    "duration": 312,
    "start_time": "2021-06-10T14:14:05.175Z"
   },
   {
    "duration": 1939,
    "start_time": "2021-06-10T16:01:28.651Z"
   },
   {
    "duration": 1674,
    "start_time": "2021-06-10T16:01:30.593Z"
   },
   {
    "duration": 89,
    "start_time": "2021-06-10T16:01:32.271Z"
   },
   {
    "duration": 80,
    "start_time": "2021-06-10T16:01:32.364Z"
   },
   {
    "duration": 88,
    "start_time": "2021-06-10T16:01:32.447Z"
   },
   {
    "duration": 6,
    "start_time": "2021-06-10T16:01:32.538Z"
   },
   {
    "duration": 4729,
    "start_time": "2021-06-10T16:01:32.547Z"
   },
   {
    "duration": 9,
    "start_time": "2021-06-10T16:01:37.283Z"
   },
   {
    "duration": 31,
    "start_time": "2021-06-10T16:01:37.297Z"
   },
   {
    "duration": 4,
    "start_time": "2021-06-10T16:01:37.332Z"
   },
   {
    "duration": 18,
    "start_time": "2021-06-10T16:01:37.338Z"
   },
   {
    "duration": 25,
    "start_time": "2021-06-10T16:01:37.358Z"
   },
   {
    "duration": 78,
    "start_time": "2021-06-10T16:01:37.387Z"
   },
   {
    "duration": 4,
    "start_time": "2021-06-10T16:01:37.468Z"
   },
   {
    "duration": 46,
    "start_time": "2021-06-10T16:01:37.475Z"
   },
   {
    "duration": 10,
    "start_time": "2021-06-10T16:01:37.523Z"
   },
   {
    "duration": 19,
    "start_time": "2021-06-10T16:01:37.535Z"
   },
   {
    "duration": 20,
    "start_time": "2021-06-10T16:01:37.557Z"
   },
   {
    "duration": 13215,
    "start_time": "2021-06-10T16:01:37.580Z"
   },
   {
    "duration": 11,
    "start_time": "2021-06-10T16:01:50.798Z"
   },
   {
    "duration": 335,
    "start_time": "2021-06-10T16:01:50.812Z"
   },
   {
    "duration": 47,
    "start_time": "2021-06-10T16:01:51.150Z"
   },
   {
    "duration": 4562,
    "start_time": "2021-06-10T16:01:51.199Z"
   },
   {
    "duration": 20,
    "start_time": "2021-06-10T16:01:55.764Z"
   },
   {
    "duration": 8002,
    "start_time": "2021-06-10T16:01:55.787Z"
   },
   {
    "duration": 7,
    "start_time": "2021-06-10T16:02:03.792Z"
   },
   {
    "duration": 6,
    "start_time": "2021-06-10T16:02:03.806Z"
   },
   {
    "duration": 28,
    "start_time": "2021-06-10T16:02:03.816Z"
   },
   {
    "duration": 50,
    "start_time": "2021-06-10T16:02:03.847Z"
   },
   {
    "duration": 1901,
    "start_time": "2021-06-10T16:02:03.900Z"
   },
   {
    "duration": 312274,
    "start_time": "2021-06-10T16:02:05.804Z"
   },
   {
    "duration": 18,
    "start_time": "2021-06-10T16:07:18.086Z"
   },
   {
    "duration": 78,
    "start_time": "2021-06-10T16:07:18.112Z"
   },
   {
    "duration": 24,
    "start_time": "2021-06-10T16:16:46.399Z"
   },
   {
    "duration": 339,
    "start_time": "2021-06-10T16:18:11.159Z"
   },
   {
    "duration": 274,
    "start_time": "2021-06-10T16:18:37.592Z"
   },
   {
    "duration": 250,
    "start_time": "2021-06-10T16:19:10.045Z"
   },
   {
    "duration": 23,
    "start_time": "2021-06-10T16:19:33.164Z"
   },
   {
    "duration": 28,
    "start_time": "2021-06-10T16:20:08.644Z"
   },
   {
    "duration": 1449,
    "start_time": "2021-06-10T17:35:48.316Z"
   },
   {
    "duration": 1190,
    "start_time": "2021-06-10T17:35:49.767Z"
   },
   {
    "duration": 67,
    "start_time": "2021-06-10T17:35:50.960Z"
   },
   {
    "duration": 55,
    "start_time": "2021-06-10T17:35:51.030Z"
   },
   {
    "duration": 50,
    "start_time": "2021-06-10T17:35:51.088Z"
   },
   {
    "duration": 5,
    "start_time": "2021-06-10T17:35:51.140Z"
   },
   {
    "duration": 4496,
    "start_time": "2021-06-10T17:35:51.147Z"
   },
   {
    "duration": 6,
    "start_time": "2021-06-10T17:35:55.646Z"
   },
   {
    "duration": 40,
    "start_time": "2021-06-10T17:35:55.656Z"
   },
   {
    "duration": 4,
    "start_time": "2021-06-10T17:35:55.699Z"
   },
   {
    "duration": 6,
    "start_time": "2021-06-10T17:35:55.705Z"
   },
   {
    "duration": 9,
    "start_time": "2021-06-10T17:35:55.713Z"
   },
   {
    "duration": 78,
    "start_time": "2021-06-10T17:35:55.724Z"
   },
   {
    "duration": 4,
    "start_time": "2021-06-10T17:35:55.804Z"
   },
   {
    "duration": 34,
    "start_time": "2021-06-10T17:35:55.811Z"
   },
   {
    "duration": 7,
    "start_time": "2021-06-10T17:35:55.848Z"
   },
   {
    "duration": 26,
    "start_time": "2021-06-10T17:35:55.858Z"
   },
   {
    "duration": 7,
    "start_time": "2021-06-10T17:35:55.887Z"
   },
   {
    "duration": 12090,
    "start_time": "2021-06-10T17:35:55.898Z"
   },
   {
    "duration": 27,
    "start_time": "2021-06-10T17:36:07.991Z"
   },
   {
    "duration": 9,
    "start_time": "2021-06-10T17:36:08.021Z"
   },
   {
    "duration": 307,
    "start_time": "2021-06-10T17:36:08.033Z"
   },
   {
    "duration": 46,
    "start_time": "2021-06-10T17:36:08.343Z"
   },
   {
    "duration": 2716,
    "start_time": "2021-06-10T17:36:08.392Z"
   },
   {
    "duration": 6,
    "start_time": "2021-06-10T17:36:11.111Z"
   },
   {
    "duration": 4803,
    "start_time": "2021-06-10T17:36:11.119Z"
   },
   {
    "duration": 5,
    "start_time": "2021-06-10T17:36:15.926Z"
   },
   {
    "duration": 14,
    "start_time": "2021-06-10T17:36:15.934Z"
   },
   {
    "duration": 38,
    "start_time": "2021-06-10T17:36:15.950Z"
   },
   {
    "duration": 14,
    "start_time": "2021-06-10T17:36:15.990Z"
   },
   {
    "duration": 362,
    "start_time": "2021-06-10T17:36:16.006Z"
   },
   {
    "duration": 1876,
    "start_time": "2021-06-10T17:36:14.495Z"
   },
   {
    "duration": 1874,
    "start_time": "2021-06-10T17:36:14.499Z"
   },
   {
    "duration": 1874,
    "start_time": "2021-06-10T17:36:14.501Z"
   },
   {
    "duration": 1096,
    "start_time": "2021-06-10T17:57:43.092Z"
   },
   {
    "duration": 32006,
    "start_time": "2021-06-10T17:57:47.707Z"
   },
   {
    "duration": 258096,
    "start_time": "2021-06-10T17:58:25.686Z"
   },
   {
    "duration": 13,
    "start_time": "2021-06-10T18:05:32.065Z"
   },
   {
    "duration": 65,
    "start_time": "2021-06-10T18:05:32.319Z"
   },
   {
    "duration": 599,
    "start_time": "2021-06-10T18:15:17.797Z"
   },
   {
    "duration": 1317921,
    "start_time": "2021-06-10T18:15:27.776Z"
   },
   {
    "duration": 17,
    "start_time": "2021-06-10T18:37:34.033Z"
   },
   {
    "duration": 16,
    "start_time": "2021-06-10T18:37:34.723Z"
   },
   {
    "duration": 1219,
    "start_time": "2021-06-10T18:37:43.273Z"
   },
   {
    "duration": 95,
    "start_time": "2021-06-10T18:37:48.088Z"
   },
   {
    "duration": 1112,
    "start_time": "2021-06-10T19:55:24.073Z"
   },
   {
    "duration": 11,
    "start_time": "2021-06-10T20:02:01.192Z"
   },
   {
    "duration": 7,
    "start_time": "2021-06-10T20:02:19.904Z"
   },
   {
    "duration": 8,
    "start_time": "2021-06-10T20:02:37.677Z"
   },
   {
    "duration": 8,
    "start_time": "2021-06-10T20:02:44.002Z"
   },
   {
    "duration": 8,
    "start_time": "2021-06-10T20:02:47.293Z"
   },
   {
    "duration": 3259,
    "start_time": "2021-06-10T20:03:43.408Z"
   },
   {
    "duration": 9,
    "start_time": "2021-06-10T20:24:11.106Z"
   },
   {
    "duration": 8,
    "start_time": "2021-06-10T20:24:16.396Z"
   },
   {
    "duration": 1120,
    "start_time": "2021-06-10T20:25:04.382Z"
   },
   {
    "duration": 255,
    "start_time": "2021-06-10T20:25:18.748Z"
   },
   {
    "duration": 76,
    "start_time": "2021-06-10T20:25:24.532Z"
   },
   {
    "duration": 932,
    "start_time": "2021-06-10T20:25:27.380Z"
   },
   {
    "duration": 7,
    "start_time": "2021-06-10T20:27:36.363Z"
   },
   {
    "duration": 9,
    "start_time": "2021-06-10T20:29:01.298Z"
   },
   {
    "duration": 11,
    "start_time": "2021-06-10T20:29:12.097Z"
   },
   {
    "duration": 10,
    "start_time": "2021-06-10T20:29:21.557Z"
   },
   {
    "duration": 9,
    "start_time": "2021-06-10T20:30:18.015Z"
   },
   {
    "duration": 13,
    "start_time": "2021-06-10T20:31:05.647Z"
   },
   {
    "duration": 4786,
    "start_time": "2021-06-10T20:31:08.483Z"
   },
   {
    "duration": 5,
    "start_time": "2021-06-10T20:31:14.585Z"
   },
   {
    "duration": 4,
    "start_time": "2021-06-10T20:31:14.598Z"
   },
   {
    "duration": 21,
    "start_time": "2021-06-10T20:31:14.605Z"
   },
   {
    "duration": 14,
    "start_time": "2021-06-10T20:31:14.629Z"
   },
   {
    "duration": 1147,
    "start_time": "2021-06-10T20:31:14.646Z"
   },
   {
    "duration": 1223808,
    "start_time": "2021-06-10T20:31:15.797Z"
   },
   {
    "duration": 14,
    "start_time": "2021-06-10T20:51:39.608Z"
   },
   {
    "duration": 160,
    "start_time": "2021-06-10T20:51:39.625Z"
   },
   {
    "duration": 310,
    "start_time": "2021-06-10T20:55:39.343Z"
   },
   {
    "duration": 69,
    "start_time": "2021-06-10T20:55:58.015Z"
   },
   {
    "duration": 81,
    "start_time": "2021-06-10T20:56:20.505Z"
   },
   {
    "duration": 1994,
    "start_time": "2021-06-10T20:59:35.298Z"
   },
   {
    "duration": 84,
    "start_time": "2021-06-10T20:59:47.007Z"
   },
   {
    "duration": 13,
    "start_time": "2021-06-10T20:59:54.828Z"
   },
   {
    "duration": 3676,
    "start_time": "2021-06-10T21:00:09.907Z"
   },
   {
    "duration": 1377,
    "start_time": "2021-06-10T21:00:22.908Z"
   },
   {
    "duration": 613476,
    "start_time": "2021-06-10T21:04:44.485Z"
   },
   {
    "duration": 120,
    "start_time": "2021-06-10T21:14:57.964Z"
   },
   {
    "duration": 5099,
    "start_time": "2021-06-10T21:22:33.269Z"
   },
   {
    "duration": 14,
    "start_time": "2021-06-10T21:25:35.755Z"
   },
   {
    "duration": 5,
    "start_time": "2021-06-10T21:25:38.501Z"
   },
   {
    "duration": 5,
    "start_time": "2021-06-10T21:25:39.129Z"
   },
   {
    "duration": 19,
    "start_time": "2021-06-10T21:25:40.848Z"
   },
   {
    "duration": 13,
    "start_time": "2021-06-10T21:25:41.199Z"
   },
   {
    "duration": 1282,
    "start_time": "2021-06-10T21:25:43.810Z"
   },
   {
    "duration": 14,
    "start_time": "2021-06-10T21:25:49.211Z"
   },
   {
    "duration": 66,
    "start_time": "2021-06-10T21:25:49.524Z"
   },
   {
    "duration": 1214,
    "start_time": "2021-06-10T21:26:01.873Z"
   },
   {
    "duration": 1496,
    "start_time": "2021-06-10T21:31:02.456Z"
   },
   {
    "duration": 1177,
    "start_time": "2021-06-10T21:31:03.955Z"
   },
   {
    "duration": 66,
    "start_time": "2021-06-10T21:31:05.135Z"
   },
   {
    "duration": 42,
    "start_time": "2021-06-10T21:31:05.204Z"
   },
   {
    "duration": 73,
    "start_time": "2021-06-10T21:31:05.249Z"
   },
   {
    "duration": 5,
    "start_time": "2021-06-10T21:31:05.324Z"
   },
   {
    "duration": 4574,
    "start_time": "2021-06-10T21:31:05.331Z"
   },
   {
    "duration": 7,
    "start_time": "2021-06-10T21:31:09.909Z"
   },
   {
    "duration": 21,
    "start_time": "2021-06-10T21:31:09.919Z"
   },
   {
    "duration": 3,
    "start_time": "2021-06-10T21:31:09.943Z"
   },
   {
    "duration": 36,
    "start_time": "2021-06-10T21:31:09.948Z"
   },
   {
    "duration": 6,
    "start_time": "2021-06-10T21:31:09.986Z"
   },
   {
    "duration": 59,
    "start_time": "2021-06-10T21:31:09.995Z"
   },
   {
    "duration": 26,
    "start_time": "2021-06-10T21:31:10.057Z"
   },
   {
    "duration": 34,
    "start_time": "2021-06-10T21:31:10.086Z"
   },
   {
    "duration": 7,
    "start_time": "2021-06-10T21:31:10.123Z"
   },
   {
    "duration": 3,
    "start_time": "2021-06-10T21:31:10.133Z"
   },
   {
    "duration": 6,
    "start_time": "2021-06-10T21:31:10.139Z"
   },
   {
    "duration": 12088,
    "start_time": "2021-06-10T21:31:10.148Z"
   },
   {
    "duration": 27,
    "start_time": "2021-06-10T21:31:22.238Z"
   },
   {
    "duration": 22,
    "start_time": "2021-06-10T21:31:22.267Z"
   },
   {
    "duration": 319,
    "start_time": "2021-06-10T21:31:22.292Z"
   },
   {
    "duration": 28,
    "start_time": "2021-06-10T21:31:22.615Z"
   },
   {
    "duration": 3180,
    "start_time": "2021-06-10T21:31:22.646Z"
   },
   {
    "duration": 7,
    "start_time": "2021-06-10T21:31:25.828Z"
   },
   {
    "duration": 10,
    "start_time": "2021-06-10T21:31:25.837Z"
   },
   {
    "duration": 39,
    "start_time": "2021-06-10T21:31:25.850Z"
   },
   {
    "duration": 5196,
    "start_time": "2021-06-10T21:31:25.892Z"
   },
   {
    "duration": 7,
    "start_time": "2021-06-10T21:31:31.091Z"
   },
   {
    "duration": 20,
    "start_time": "2021-06-10T21:31:31.101Z"
   },
   {
    "duration": 13,
    "start_time": "2021-06-10T21:31:31.123Z"
   },
   {
    "duration": 32,
    "start_time": "2021-06-10T21:31:31.138Z"
   },
   {
    "duration": 20,
    "start_time": "2021-06-10T21:31:31.172Z"
   },
   {
    "duration": 492,
    "start_time": "2021-06-10T21:31:31.195Z"
   },
   {
    "duration": 12,
    "start_time": "2021-06-10T21:31:31.689Z"
   },
   {
    "duration": 396,
    "start_time": "2021-06-10T21:31:31.703Z"
   },
   {
    "duration": 196,
    "start_time": "2021-06-10T21:32:43.389Z"
   },
   {
    "duration": 1448,
    "start_time": "2021-06-10T21:33:11.628Z"
   },
   {
    "duration": 1160,
    "start_time": "2021-06-10T21:33:13.079Z"
   },
   {
    "duration": 60,
    "start_time": "2021-06-10T21:33:14.243Z"
   },
   {
    "duration": 40,
    "start_time": "2021-06-10T21:33:14.306Z"
   },
   {
    "duration": 78,
    "start_time": "2021-06-10T21:33:14.348Z"
   },
   {
    "duration": 5,
    "start_time": "2021-06-10T21:33:14.428Z"
   },
   {
    "duration": 4387,
    "start_time": "2021-06-10T21:33:14.435Z"
   },
   {
    "duration": 6,
    "start_time": "2021-06-10T21:33:18.825Z"
   },
   {
    "duration": 27,
    "start_time": "2021-06-10T21:33:18.835Z"
   },
   {
    "duration": 3,
    "start_time": "2021-06-10T21:33:18.883Z"
   },
   {
    "duration": 6,
    "start_time": "2021-06-10T21:33:18.889Z"
   },
   {
    "duration": 6,
    "start_time": "2021-06-10T21:33:18.897Z"
   },
   {
    "duration": 80,
    "start_time": "2021-06-10T21:33:18.905Z"
   },
   {
    "duration": 4,
    "start_time": "2021-06-10T21:33:18.988Z"
   },
   {
    "duration": 47,
    "start_time": "2021-06-10T21:33:18.994Z"
   },
   {
    "duration": 10,
    "start_time": "2021-06-10T21:33:19.044Z"
   },
   {
    "duration": 29,
    "start_time": "2021-06-10T21:33:19.057Z"
   },
   {
    "duration": 7,
    "start_time": "2021-06-10T21:33:19.089Z"
   },
   {
    "duration": 12316,
    "start_time": "2021-06-10T21:33:19.098Z"
   },
   {
    "duration": 29,
    "start_time": "2021-06-10T21:33:31.416Z"
   },
   {
    "duration": 9,
    "start_time": "2021-06-10T21:33:31.447Z"
   },
   {
    "duration": 338,
    "start_time": "2021-06-10T21:33:31.458Z"
   },
   {
    "duration": 29,
    "start_time": "2021-06-10T21:33:31.798Z"
   },
   {
    "duration": 3390,
    "start_time": "2021-06-10T21:33:31.829Z"
   },
   {
    "duration": 6,
    "start_time": "2021-06-10T21:33:35.221Z"
   },
   {
    "duration": 16,
    "start_time": "2021-06-10T21:33:35.230Z"
   },
   {
    "duration": 36,
    "start_time": "2021-06-10T21:33:35.251Z"
   },
   {
    "duration": 5006,
    "start_time": "2021-06-10T21:33:35.290Z"
   },
   {
    "duration": 16,
    "start_time": "2021-06-10T21:33:40.298Z"
   },
   {
    "duration": 5,
    "start_time": "2021-06-10T21:33:40.316Z"
   },
   {
    "duration": 10,
    "start_time": "2021-06-10T21:33:40.323Z"
   },
   {
    "duration": 59,
    "start_time": "2021-06-10T21:33:40.335Z"
   },
   {
    "duration": 15,
    "start_time": "2021-06-10T21:33:40.396Z"
   },
   {
    "duration": 1380,
    "start_time": "2021-06-10T21:33:40.413Z"
   },
   {
    "duration": 89,
    "start_time": "2021-06-10T21:33:41.796Z"
   },
   {
    "duration": 97,
    "start_time": "2021-06-10T21:33:41.887Z"
   },
   {
    "duration": 90,
    "start_time": "2021-06-10T21:36:51.127Z"
   },
   {
    "duration": 1607,
    "start_time": "2021-06-11T21:48:19.986Z"
   },
   {
    "duration": 1240,
    "start_time": "2021-06-11T21:48:21.596Z"
   },
   {
    "duration": 71,
    "start_time": "2021-06-11T21:48:22.839Z"
   },
   {
    "duration": 73,
    "start_time": "2021-06-11T21:48:22.913Z"
   },
   {
    "duration": 74,
    "start_time": "2021-06-11T21:48:22.989Z"
   },
   {
    "duration": 6,
    "start_time": "2021-06-11T21:48:23.066Z"
   },
   {
    "duration": 4821,
    "start_time": "2021-06-11T21:48:23.074Z"
   },
   {
    "duration": 7,
    "start_time": "2021-06-11T21:48:27.899Z"
   },
   {
    "duration": 24,
    "start_time": "2021-06-11T21:48:27.908Z"
   },
   {
    "duration": 5,
    "start_time": "2021-06-11T21:48:27.955Z"
   },
   {
    "duration": 9,
    "start_time": "2021-06-11T21:48:27.963Z"
   },
   {
    "duration": 8,
    "start_time": "2021-06-11T21:48:27.974Z"
   },
   {
    "duration": 82,
    "start_time": "2021-06-11T21:48:27.985Z"
   },
   {
    "duration": 4,
    "start_time": "2021-06-11T21:48:28.070Z"
   },
   {
    "duration": 45,
    "start_time": "2021-06-11T21:48:28.077Z"
   },
   {
    "duration": 9,
    "start_time": "2021-06-11T21:48:28.125Z"
   },
   {
    "duration": 21,
    "start_time": "2021-06-11T21:48:28.137Z"
   },
   {
    "duration": 7,
    "start_time": "2021-06-11T21:48:28.160Z"
   },
   {
    "duration": 13751,
    "start_time": "2021-06-11T21:48:28.169Z"
   },
   {
    "duration": 43,
    "start_time": "2021-06-11T21:48:41.923Z"
   },
   {
    "duration": 11,
    "start_time": "2021-06-11T21:48:41.969Z"
   },
   {
    "duration": 358,
    "start_time": "2021-06-11T21:48:41.983Z"
   },
   {
    "duration": 43,
    "start_time": "2021-06-11T21:48:42.345Z"
   },
   {
    "duration": 3628,
    "start_time": "2021-06-11T21:48:42.392Z"
   },
   {
    "duration": 6,
    "start_time": "2021-06-11T21:48:46.023Z"
   },
   {
    "duration": 25,
    "start_time": "2021-06-11T21:48:46.032Z"
   },
   {
    "duration": 18,
    "start_time": "2021-06-11T21:48:46.059Z"
   },
   {
    "duration": 5552,
    "start_time": "2021-06-11T21:48:46.079Z"
   },
   {
    "duration": 29,
    "start_time": "2021-06-11T21:48:51.633Z"
   },
   {
    "duration": 5,
    "start_time": "2021-06-11T21:48:51.664Z"
   },
   {
    "duration": 22,
    "start_time": "2021-06-11T21:48:51.672Z"
   },
   {
    "duration": 25,
    "start_time": "2021-06-11T21:48:51.696Z"
   },
   {
    "duration": 34,
    "start_time": "2021-06-11T21:48:51.723Z"
   },
   {
    "duration": 1407,
    "start_time": "2021-06-11T21:48:51.760Z"
   },
   {
    "duration": 1122196,
    "start_time": "2021-06-11T21:48:53.171Z"
   },
   {
    "duration": 96,
    "start_time": "2021-06-11T22:07:35.377Z"
   },
   {
    "duration": 181,
    "start_time": "2021-06-11T22:07:35.476Z"
   }
  ],
  "kernelspec": {
   "display_name": "Python 3",
   "language": "python",
   "name": "python3"
  },
  "language_info": {
   "codemirror_mode": {
    "name": "ipython",
    "version": 3
   },
   "file_extension": ".py",
   "mimetype": "text/x-python",
   "name": "python",
   "nbconvert_exporter": "python",
   "pygments_lexer": "ipython3",
   "version": "3.7.10"
  },
  "toc": {
   "base_numbering": 1,
   "nav_menu": {},
   "number_sections": true,
   "sideBar": true,
   "skip_h1_title": true,
   "title_cell": "Table of Contents",
   "title_sidebar": "Contents",
   "toc_cell": false,
   "toc_position": {},
   "toc_section_display": true,
   "toc_window_display": false
  }
 },
 "nbformat": 4,
 "nbformat_minor": 2
}
